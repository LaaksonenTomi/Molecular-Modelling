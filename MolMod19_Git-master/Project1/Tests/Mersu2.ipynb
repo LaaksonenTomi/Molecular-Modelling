{
 "cells": [
  {
   "cell_type": "code",
   "execution_count": 8,
   "metadata": {},
   "outputs": [
    {
     "name": "stdout",
     "output_type": "stream",
     "text": [
      "3521569528\n",
      "1101990581\n",
      "1076301704\n",
      "2948418163\n",
      "3792022443\n",
      "2697495705\n",
      "2002445460\n",
      "502890592\n",
      "3431775349\n",
      "1040222146\n"
     ]
    }
   ],
   "source": [
    "class mersenne_rng(object):\n",
    "    def __init__(self, seed = 5489):\n",
    "        self.state = [0]*624\n",
    "        self.f = 1812433253\n",
    "        self.m = 397\n",
    "        self.u = 11\n",
    "        self.s = 7\n",
    "        self.b = 0x9D2C5680\n",
    "        self.t = 15\n",
    "        self.c = 0xEFC60000\n",
    "        self.l = 18\n",
    "        self.index = 624\n",
    "        self.lower_mask = (1<<31)-1\n",
    "        self.upper_mask = 1<<31\n",
    "\n",
    "        # update state\n",
    "        self.state[0] = seed\n",
    "        for i in range(1,624):\n",
    "            self.state[i] = self.int_32(self.f*(self.state[i-1]^(self.state[i-1]>>30)) + i)\n",
    "\n",
    "    def twist(self):\n",
    "        for i in range(624):\n",
    "            temp = self.int_32((self.state[i]&self.upper_mask)+(self.state[(i+1)%624]&self.lower_mask))\n",
    "            temp_shift = temp>>1\n",
    "            if temp%2 != 0:\n",
    "                temp_shift = temp_shift^0x9908b0df\n",
    "            self.state[i] = self.state[(i+self.m)%624]^temp_shift\n",
    "        self.index = 0\n",
    "\n",
    "    def get_random_number(self):\n",
    "        if self.index >= 624:\n",
    "            self.twist()\n",
    "        y = self.state[self.index]\n",
    "        y = y^(y>>self.u)\n",
    "        y = y^((y<<self.s)&self.b)\n",
    "        y = y^((y<<self.t)&self.c)\n",
    "        y = y^(y>>self.l)\n",
    "        self.index+=1\n",
    "        return self.int_32(y)\n",
    "\n",
    "    def int_32(self, number):\n",
    "        return int(0xFFFFFFFF & number)\n",
    "\n",
    "if __name__ == \"__main__\":\n",
    "    rng = mersenne_rng(1131464071)\n",
    "    for i in range(10):\n",
    "        print(rng.get_random_number()) ####"
   ]
  },
  {
   "cell_type": "code",
   "execution_count": null,
   "metadata": {},
   "outputs": [],
   "source": []
  }
 ],
 "metadata": {
  "kernelspec": {
   "display_name": "Python 3",
   "language": "python",
   "name": "python3"
  },
  "language_info": {
   "codemirror_mode": {
    "name": "ipython",
    "version": 3
   },
   "file_extension": ".py",
   "mimetype": "text/x-python",
   "name": "python",
   "nbconvert_exporter": "python",
   "pygments_lexer": "ipython3",
   "version": "3.7.1"
  }
 },
 "nbformat": 4,
 "nbformat_minor": 2
}
