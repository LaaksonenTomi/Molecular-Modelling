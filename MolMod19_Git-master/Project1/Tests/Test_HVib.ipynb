{
 "cells": [
  {
   "cell_type": "code",
   "execution_count": 823,
   "metadata": {},
   "outputs": [],
   "source": [
    "import numpy as np\n",
    "import matplotlib.pyplot as plt\n",
    "import matplotlib.animation as animation\n",
    "import pandas as pd\n",
    "from pandas import Series,DataFrame\n",
    "\n",
    "from numpy import linalg as linis\n",
    "\n",
    "import random\n",
    "import math\n",
    "import sys\n",
    "\n",
    "from RandomClass import Random   \n",
    "from collections import Counter\n",
    "\n",
    "%matplotlib inline"
   ]
  },
  {
   "cell_type": "markdown",
   "metadata": {},
   "source": [
    "# Harmoninen värähtelijä"
   ]
  },
  {
   "cell_type": "code",
   "execution_count": null,
   "metadata": {},
   "outputs": [],
   "source": []
  },
  {
   "cell_type": "markdown",
   "metadata": {},
   "source": [
    "## Mersu usage\n",
    "\n",
    "| command        | effect          |\n",
    "| :------------- | :-------------- |\n",
    "| `rndg.random()`  | return uniform distribution in [0,1)  |\n",
    "| `rndg.randint(begin_number, end_number)` | return random int in [a,b) |\n",
    "| `rndg.shuffle(sequence as list)` | shuffle the input sequence |\n",
    "| `rndg.choice(sequence, replace=True, size=1)` | choice an element randomly in the sequence |\n",
    "| `rndg.bern(p)` | generate a Bernoulli Random Variable, p: the probability of True |\n",
    "| `rndg.binomial(n, p)` | generate a Binomial Random Variable, n: total times, p: probability of success | \n",
    "| `rndg.geometric(p)` | generate a Geometric Random Variable, p: probability of success |"
   ]
  },
  {
   "cell_type": "markdown",
   "metadata": {},
   "source": [
    "### Making of random numbers\n",
    "```\n",
    "n_nums = lukujen määrä\n",
    "decimals = numeroiden määrä\n",
    "my_seed = randomin siemen\n",
    "```"
   ]
  },
  {
   "cell_type": "code",
   "execution_count": 824,
   "metadata": {},
   "outputs": [],
   "source": [
    "n_nums=10**6\n",
    "decimals=3\n",
    "my_seed=31415"
   ]
  },
  {
   "cell_type": "code",
   "execution_count": 825,
   "metadata": {},
   "outputs": [],
   "source": [
    "rndg = Random(my_seed)   # init Mersu"
   ]
  },
  {
   "cell_type": "markdown",
   "metadata": {},
   "source": [
    "#### Kokonaislukuja"
   ]
  },
  {
   "cell_type": "code",
   "execution_count": 826,
   "metadata": {},
   "outputs": [],
   "source": [
    "def rPInt(decimals):                 # funktio joka tekee random positiivisen kokonaisluvun\n",
    "    lower=10**(decimals-1)\n",
    "    upper=10**decimals\n",
    "    return rndg.randint(lower,upper)\n",
    "def rInt(decimals):                 # funktio joka tekee random kokonaisluvun\n",
    "    lower=-10**decimals\n",
    "    upper=10**decimals\n",
    "    return rndg.randint(lower,upper)"
   ]
  },
  {
   "cell_type": "code",
   "execution_count": 827,
   "metadata": {},
   "outputs": [],
   "source": [
    "def rPInts():                      # funktio joka tekee listan random positiivisia kokonaislukuja\n",
    "    list_rPInts = []\n",
    "    for x in range(n_nums):\n",
    "        list_rPInts.append(rPInt(decimals))\n",
    "    return list_rPInts\n",
    "def rInts():                      # funktio joka tekee listan random kokonaislukuja\n",
    "    list_rInts = []\n",
    "    for x in range(n_nums):\n",
    "        list_rInts.append(rInt(decimals))\n",
    "    return list_rInts"
   ]
  },
  {
   "cell_type": "markdown",
   "metadata": {},
   "source": [
    "#### Reaalilukuja"
   ]
  },
  {
   "cell_type": "code",
   "execution_count": 828,
   "metadata": {},
   "outputs": [],
   "source": [
    "def rPReals01():                 # funktio joka tekee listan random reaalilukuja [0,1)]\n",
    "    list_rPReals01 = []\n",
    "    for x in range(n_nums):\n",
    "        list_rPReals01.append(rndg.random())\n",
    "    return list_rPReals01\n",
    "def rReals01():                 # funktio joka tekee listan random reaalilukuja [-1,1)]\n",
    "    list_rReals01 = []\n",
    "    for x in range(n_nums):\n",
    "        if rndg.bern(rndg.random()):       # True todennäköisyys arvotaan joka kerta\n",
    "            list_rReals01.append(rndg.random())   # True: positiivinen\n",
    "        else:\n",
    "            list_rReals01.append(-rndg.random())  # False: negatiivinen\n",
    "    return list_rReals01"
   ]
  },
  {
   "cell_type": "code",
   "execution_count": 829,
   "metadata": {},
   "outputs": [],
   "source": [
    "# for x in range(n_nums):\n",
    "#    print(rndg.bern(rndg.random()))"
   ]
  },
  {
   "cell_type": "code",
   "execution_count": null,
   "metadata": {},
   "outputs": [],
   "source": []
  },
  {
   "cell_type": "markdown",
   "metadata": {},
   "source": [
    "### -1 ja 1 50:50 chance"
   ]
  },
  {
   "cell_type": "code",
   "execution_count": 830,
   "metadata": {},
   "outputs": [],
   "source": [
    "def fifty_sixty():\n",
    "    if rndg.bern(0.5):\n",
    "        return 1\n",
    "    else:\n",
    "        return -1"
   ]
  },
  {
   "cell_type": "code",
   "execution_count": 831,
   "metadata": {},
   "outputs": [],
   "source": [
    "def fifties_sixties():\n",
    "    list_fifsixs = []\n",
    "    for x in range(n_nums):\n",
    "        if rndg.bern(0.5):\n",
    "            list_fifsixs.append(1)\n",
    "        else:\n",
    "            list_fifsixs.append(-1)\n",
    "    return list_fifsixs"
   ]
  },
  {
   "cell_type": "code",
   "execution_count": null,
   "metadata": {},
   "outputs": [],
   "source": []
  },
  {
   "cell_type": "markdown",
   "metadata": {},
   "source": [
    "## Leapfrog algorithm\n",
    "- Forces\n",
    "- new momentum based on the force and half the timestep\n",
    "- new position\n",
    "- next new momentum with the other half of the timestep"
   ]
  },
  {
   "cell_type": "markdown",
   "metadata": {},
   "source": [
    "### Differential equations for motion\n",
    "$ dx/dt = v(t) $    ------------------------------->    $ x1 = x0 + v(1/2)dt $  \n",
    "$ dv/dt = 1/m * (- dU(x)/dx) $ ---------------> $ v(3/2) = v(1/2) + (- dU(x1)/dx)dt $"
   ]
  },
  {
   "cell_type": "code",
   "execution_count": 939,
   "metadata": {},
   "outputs": [],
   "source": [
    "m1 = 1\n",
    "m2 = 1\n",
    "m_red = (m1 * m2)/(m1 + m2)    # reduced mass\n",
    "m_tot = m1 + m2\n",
    "\n",
    "k = 1                  # spring constant"
   ]
  },
  {
   "cell_type": "code",
   "execution_count": 940,
   "metadata": {},
   "outputs": [],
   "source": [
    "r1 = np.array([rndg.random() * fifty_sixty(),rndg.random() * fifty_sixty()])         # location of particle1\n",
    "r2 = np.array([rndg.random() * fifty_sixty(),rndg.random() * fifty_sixty()])        # location of particle1\n",
    "r_cm = (m1*r1 + m2*r2)/(m_tot)  # location of CM\n",
    "\n",
    "r_eq = 2               # distance of particle1 and particle2 at equilibrium\n",
    "r12 = r2 - r1\n",
    "r_eq_vec = (r2 - r1)/linis.norm((r2 - r1)) * r_eq\n",
    "\n",
    "\n",
    "v1 = np.array([rndg.random() * fifty_sixty(),rndg.random() * fifty_sixty()])         # velocity of particle1\n",
    "v2 = np.array([rndg.random() * fifty_sixty(),rndg.random() * fifty_sixty()])        # velocity of particle2\n",
    "v12 = v2 - v1\n",
    "v21 = -v12\n",
    "\n",
    "p1 = m1 * v1             # momentum of particle1\n",
    "p2 = m2 * v2             # momentum of particle2\n",
    "p_cm = p1 + p2\n",
    "p12 = p2 - p1"
   ]
  },
  {
   "cell_type": "code",
   "execution_count": 941,
   "metadata": {},
   "outputs": [
    {
     "data": {
      "text/plain": [
       "array([ 0.55028799, -0.08114138])"
      ]
     },
     "execution_count": 941,
     "metadata": {},
     "output_type": "execute_result"
    }
   ],
   "source": [
    "r12 - r_eq_vec"
   ]
  },
  {
   "cell_type": "code",
   "execution_count": 942,
   "metadata": {},
   "outputs": [
    {
     "name": "stdout",
     "output_type": "stream",
     "text": [
      "-0.5949202672730569\n"
     ]
    }
   ],
   "source": [
    "l12 = np.cross(r12,p12)       # angular momentum\n",
    "print(l12)"
   ]
  },
  {
   "cell_type": "code",
   "execution_count": 943,
   "metadata": {},
   "outputs": [
    {
     "name": "stdout",
     "output_type": "stream",
     "text": [
      "1.4437619289973107\n"
     ]
    }
   ],
   "source": [
    "r1_len = np.sqrt(r1.dot(r1)) \n",
    "r2_len = np.sqrt(r2.dot(r2)) \n",
    "r12_len = np.sqrt(r12.dot(r12))\n",
    "print(r12_len)"
   ]
  },
  {
   "cell_type": "code",
   "execution_count": 944,
   "metadata": {},
   "outputs": [],
   "source": [
    "n = 0                  # index of timesteps\n",
    "dt = 0.01             # size of timestep\n",
    "\n",
    "def tstep_x():\n",
    "    tstep_x = dt         # timestep for position\n",
    "    return tstep_x\n",
    "def tstep_v():\n",
    "    tstep_v = dt - (dt*0.5)   # timestep for velocity is off-phase\n",
    "    return tstep_v\n",
    "\n",
    "n_steps = 10000       # number of timesteps"
   ]
  },
  {
   "cell_type": "code",
   "execution_count": 914,
   "metadata": {},
   "outputs": [],
   "source": [
    "with open(\"hvibD2.xyz\",\"w\") as c:\n",
    "    for i in range(n_steps+1):\n",
    "        #v12_old = v12.copy()\n",
    "        v12 -= (k/m_red) * (r12 - r_eq_vec) * dt\n",
    "        r12 += v12 * dt\n",
    "        # r12_len = np.sqrt(r12.dot(r12))\n",
    "        r_cm = (m1*r1 + m2*r2)/(m_tot)  # location of CM\n",
    "        \n",
    "        x1 = r12[0]/2 + r_cm[0]\n",
    "        y1 = r12[1]/2 + r_cm[1]\n",
    "        x2 = -r12[0]/2 + r_cm[0]\n",
    "        y2 = -r12[1]/2 + r_cm[1]\n",
    "        \n",
    "        r1 = np.array([x1,y1])\n",
    "        r2 = np.array([x2,y2])\n",
    "    \n",
    "#        c.write(\"2\\ntstep: {}\".format(i), \"\\nH1 {} {} 0\".format(r12[0]/2, r12[1]/2), \"\\nH2 {} {} 0\\n\".format(-r12[0]/2, -r12[1]/2))\n",
    "        c.write(\"2\\ntstep: {}\\nH1 {} {} 0\\nH2 {} {} 0\\n\".format(i, x1, y1, x2, y2))"
   ]
  },
  {
   "cell_type": "code",
   "execution_count": 945,
   "metadata": {},
   "outputs": [],
   "source": [
    "with open(\"hvibD2_E.txt\",\"w\") as c:\n",
    "    for i in range(n_steps+1):\n",
    "        #energy \n",
    "        r12_len = np.sqrt(r12.dot(r12))\n",
    "        v12_len = np.sqrt(v12.dot(v12))\n",
    "        U = k*(r12_len - r_eq)**2\n",
    "        p1 = m1 * v12_len/2 * r12/r12_len\n",
    "        p2 = m2 * v12_len/2 * r12/r12_len\n",
    "        K1 = np.sqrt(p1.dot(p1))**2 /(2 * m1)\n",
    "        K2 = np.sqrt(p2.dot(p2))**2 /(2 * m2)\n",
    "        linear_momentum = p1.dot(p2)\n",
    "        l12 = np.cross(r12,p12)\n",
    "        # angular_momentum = massCM * math.sqrt(ang_velocity1**2 + ang_velocity2**2) * r/2\n",
    "        E_rot = l12 / (4 * r12_len * np.sqrt(r_cm.dot(r_cm)))\n",
    "        E_tot = U + K1 + K2 # E_rot\n",
    "        \n",
    "        #v12_old = v12.copy()\n",
    "        v12 -= (k/m_red) * (r12 - r_eq_vec) * dt\n",
    "        r12 += v12 * dt\n",
    "        \n",
    "        r_cm = (m1*r1 + m2*r2)/(m_tot)  # location of CM\n",
    "        \n",
    "        x1 = r12[0]/2 + r_cm[0]\n",
    "        y1 = r12[1]/2 + r_cm[1]\n",
    "        x2 = -r12[0]/2 + r_cm[0]\n",
    "        y2 = -r12[1]/2 + r_cm[1]\n",
    "        \n",
    "        r1 = np.array([x1,y1])\n",
    "        r2 = np.array([x2,y2])\n",
    "    \n",
    "#        c.write(\"2\\ntstep: {}\".format(i), \"\\nH1 {} {} 0\".format(r12[0]/2, r12[1]/2), \"\\nH2 {} {} 0\\n\".format(-r12[0]/2, -r12[1]/2))\n",
    "        c.write(\"Step: {} \\t Linear momentum = {} \\t Angular momentum = {} \\t U = {} \\t K = {} \\t E_rot = {} \\t E_tot = {} \\n\".format(i,linear_momentum,l12,U,K1+K2,E_rot,E_tot))"
   ]
  },
  {
   "cell_type": "code",
   "execution_count": null,
   "metadata": {},
   "outputs": [],
   "source": []
  },
  {
   "cell_type": "code",
   "execution_count": null,
   "metadata": {},
   "outputs": [],
   "source": []
  },
  {
   "cell_type": "code",
   "execution_count": 964,
   "metadata": {},
   "outputs": [],
   "source": [
    "m1 = 1\n",
    "m2 = 1\n",
    "m_red = (m1 * m2)/(m1 + m2)    # reduced mass\n",
    "m_tot = m1 + m2\n",
    "\n",
    "k = 1                  # spring constant\n"
   ]
  },
  {
   "cell_type": "code",
   "execution_count": 965,
   "metadata": {},
   "outputs": [],
   "source": [
    "r1 = 1.5         # location of particle1\n",
    "r2 = -1.5        # location of particle1\n",
    "r_cm = (m1*r1 + m2*r2)/(m_tot)  # location of CM\n",
    "\n",
    "r_eq = 2               # distance of particle1 and particle2 at equilibrium\n",
    "r12 = np.abs(r2 - r1)\n",
    "\n",
    "v1 = 0.0         # velocity of particle1\n",
    "v2 = 0.0        # velocity of particle2\n",
    "v12 = v2 - v1\n",
    "v21 = -v12\n",
    "\n",
    "p1 = m1 * v1             # momentum of particle1\n",
    "p2 = m2 * v2             # momentum of particle2\n",
    "p_cm = p1 + p2\n",
    "p12 = p2 - p1"
   ]
  },
  {
   "cell_type": "code",
   "execution_count": 966,
   "metadata": {},
   "outputs": [],
   "source": [
    "n = 0                  # index of timesteps\n",
    "dt = 0.01             # size of timestep\n",
    "\n",
    "def tstep_x(n):\n",
    "    tstep_x = n*dt         # timestep for position\n",
    "    return tstep_x\n",
    "def tstep_v(n):\n",
    "    tstep_v = (n+0.5)*dt   # timestep for velocity is off-phase\n",
    "    return tstep_v\n",
    "\n",
    "n_steps = 10000       # number of timesteps"
   ]
  },
  {
   "cell_type": "code",
   "execution_count": 949,
   "metadata": {},
   "outputs": [],
   "source": [
    "with open(\"hvibD1.xyz\",\"w\") as c:\n",
    "    for i in range(n_steps+1):\n",
    "        c.write(\"2\\ntstep: {}\\nH1 {} 0 0\\nH2 {} 0 0\\n\".format(i,r12/2, -r12/2))\n",
    "        v12 -= (k/m_red) * (r12 - r_eq) * dt\n",
    "        r12 += v12 * dt"
   ]
  },
  {
   "cell_type": "code",
   "execution_count": 967,
   "metadata": {},
   "outputs": [],
   "source": [
    "with open (\"hvibD1_fig.txt\",\"w\") as f:\n",
    "    for i in range(n_steps+1):\n",
    "        f.write(\"{},{}\\n\".format(i,r12-r_eq))\n",
    "        v12 -= (k/m_red) * (r12 - r_eq) * dt\n",
    "        r12 += v12 * dt"
   ]
  },
  {
   "cell_type": "code",
   "execution_count": 969,
   "metadata": {},
   "outputs": [],
   "source": [
    "with open (\"hvibD1_sin.txt\",\"w\") as f:\n",
    "    for i in range(n_steps+1):\n",
    "        f.write(\"{},{}\\n\".format(i,np.cos(np.sqrt(k/m_red)*dt*i)))"
   ]
  },
  {
   "cell_type": "markdown",
   "metadata": {},
   "source": [
    "sin = pd.read_csv(\"hvibD1_sin.txt\")\n",
    "sindf = sin.parse()"
   ]
  },
  {
   "cell_type": "code",
   "execution_count": null,
   "metadata": {},
   "outputs": [],
   "source": []
  },
  {
   "cell_type": "markdown",
   "metadata": {},
   "source": [
    "# Laura & Tomi"
   ]
  },
  {
   "cell_type": "code",
   "execution_count": 384,
   "metadata": {},
   "outputs": [],
   "source": [
    "#constants\n",
    "timestep = 0.001\n",
    "steps = 100000\n",
    "mass1 = 1\n",
    "mass2 = 1\n",
    "massCM = (mass1 * mass2)/(mass1 + mass2)\n",
    "spring_constant = 1\n",
    "eq_distance = 1"
   ]
  },
  {
   "cell_type": "code",
   "execution_count": 385,
   "metadata": {},
   "outputs": [],
   "source": [
    "#starting values\n",
    "velx1 = -0.5\n",
    "vely1 = -0.5\n",
    "vel1 = [velx1,vely1]\n",
    "velx2 = 0.5\n",
    "vely2 = 0.5\n",
    "vel2 = [velx2,vely2]\n",
    "x1 = 0.75\n",
    "y1 = 0\n",
    "x2 = -0.75\n",
    "y2 = 0"
   ]
  },
  {
   "cell_type": "code",
   "execution_count": 386,
   "metadata": {},
   "outputs": [],
   "source": [
    "deltax = x2-x1\n",
    "deltay = y2-y1\n",
    "deltar = [deltax, deltay]\n",
    "if (np.cross(deltar,vel1) >= 0):\n",
    "    rotdir1 = -1\n",
    "else:\n",
    "    rotdir1 = 1\n",
    "if (np.cross(deltar,vel2) >= 0):\n",
    "    rotdir2 = -1\n",
    "else:\n",
    "    rotdir2 = 1"
   ]
  },
  {
   "cell_type": "code",
   "execution_count": 387,
   "metadata": {},
   "outputs": [
    {
     "name": "stdout",
     "output_type": "stream",
     "text": [
      "-1 1\n"
     ]
    }
   ],
   "source": [
    "print(rotdir1, rotdir2)"
   ]
  },
  {
   "cell_type": "code",
   "execution_count": 388,
   "metadata": {},
   "outputs": [],
   "source": [
    "r = math.sqrt((x2 - x1)**2 + (y2 - y1)**2)\n",
    "theta = math.atan((y2 - y1)/(x2 - x1))\n",
    "if (velx1) == 0:\n",
    "    alpha1 = math.pi\n",
    "elif (velx2) == 0:\n",
    "    alpha2 = 0\n",
    "else:\n",
    "#    alpha1 = math.acos(((x2 -x1)*velx1 + (y2 - y1)*vely1)/(math.sqrt((x2 - x1)**2 + (y2 - y1)**2)*math.sqrt(velx1**2 + vely1**2)))\n",
    "#    alpha2 = math.acos(((x2 -x1)*velx2 + (y2 - y1)*vely2)/(math.sqrt((x2 - x1)**2 + (y2 - y1)**2)*math.sqrt(velx2**2 + vely2**2)))\n",
    "\n",
    "    alpha1 = math.atan(vely1/velx1) + theta\n",
    "    alpha2 = math.atan(vely2/velx2) + theta"
   ]
  },
  {
   "cell_type": "code",
   "execution_count": 389,
   "metadata": {},
   "outputs": [
    {
     "name": "stdout",
     "output_type": "stream",
     "text": [
      "0.7853981633974483 0.7853981633974483\n"
     ]
    }
   ],
   "source": [
    "print(alpha1, alpha2)"
   ]
  },
  {
   "cell_type": "code",
   "execution_count": 390,
   "metadata": {},
   "outputs": [],
   "source": [
    "vel1_par = math.cos(alpha1) * math.sqrt(velx1**2 + vely1**2)\n",
    "vel2_par = math.cos(alpha2) * math.sqrt(velx1**2 + vely1**2)\n",
    "\n",
    "vel1_per = math.sin(alpha1) * math.sqrt(velx1**2 + vely1**2)\n",
    "vel2_per = math.sin(alpha2) * math.sqrt(velx1**2 + vely1**2)"
   ]
  },
  {
   "cell_type": "code",
   "execution_count": 391,
   "metadata": {},
   "outputs": [
    {
     "name": "stdout",
     "output_type": "stream",
     "text": [
      "0.5000000000000001 0.5000000000000001\n",
      "0.5 0.5\n"
     ]
    }
   ],
   "source": [
    "print(vel1_par, vel2_par)\n",
    "print(vel1_per, vel2_per)"
   ]
  },
  {
   "cell_type": "code",
   "execution_count": 392,
   "metadata": {},
   "outputs": [
    {
     "name": "stdout",
     "output_type": "stream",
     "text": [
      "-1\n",
      "0.0\n"
     ]
    }
   ],
   "source": [
    "# combined rotational direction 1 = counter clockwise, -1 = clockwise\n",
    "if (vel1_per == vel2_per) and (rotdir1 == rotdir2):   # ei pyöri\n",
    "    rotdir_tot = 0\n",
    "    velrot = 0\n",
    "elif (vel1_per > vel2_per) and (rotdir1 == rotdir2):  # pyörii suuremman samansuuntaisen vektorin määräämään suuntaan\n",
    "    rotdir_tot = rotdir1\n",
    "    velrot = np.abs(vel1_per - vel2_per)  #___ rigid rotor\n",
    "elif (vel1_per < vel2_per) and (rotdir1 == rotdir2):  # pyörii suuremman samansuuntaisen vektorin määräämään suuntaan\n",
    "    rotdir_tot = rotdir2\n",
    "    velrot = np.abs(vel2_per - vel1_per) # ___ rigid rotor\n",
    "elif (rotdir1 == 1 and rotdir2 == -1):\n",
    "    rotdir_tot = 1\n",
    "    velrot = np.abs(vel1_per - vel2_per)  #___ rigid rotor\n",
    "elif (rotdir1 == -1 and rotdir2 == 1):\n",
    "    rotdir_tot = -1\n",
    "    velrot = np.abs(vel2_per - vel1_per)  #___ rigid rotor\n",
    "print(rotdir_tot)\n",
    "print(velrot)"
   ]
  },
  {
   "cell_type": "code",
   "execution_count": 393,
   "metadata": {},
   "outputs": [],
   "source": [
    "ang_velocity1 = velrot\n",
    "ang_velocity2 = velrot\n",
    "K1 = 1/2 * mass1 * math.sqrt(velx1 ** 2 + vely1 **2)\n",
    "K2 = 1/2 * mass2 * math.sqrt(velx2 ** 2 + vely2 **2)\n",
    "U = (r - eq_distance) * spring_constant\n",
    "E_rot = math.sqrt(ang_velocity2**2 + ang_velocity1**2) / (4 * r)"
   ]
  },
  {
   "cell_type": "code",
   "execution_count": 394,
   "metadata": {},
   "outputs": [],
   "source": [
    "#defining writing step\n",
    "def writestep():\n",
    "    f.write(\"2\\nstep: \" + str(i) + \" K1: \" + str(K1) + \" K2: \" + str(K2)\n",
    "            + \" U: \" + str(U) + \" E_J: \" + str(E_rot) + \" E_tot: \" + str(K1 + K2 + U + E_rot)\n",
    "            + \"\\nH \"+ str(x1) + \" \" + str(y1) + \" 0\\nH \"+ str(x2) + \" \" + str(y2) + \" 0\\n\")\n",
    "    #f.write(str(velx1) + \" vely1: \" + str(vely1) + \" velx2: \" + str(velx2) + \" r: \" + str(r)\n",
    "    #        + \" theta: \" + str(theta) + \" alpha1: \" + str(alpha1) + \" alpha2\" + str(alpha2) \n",
    "    #        + \" vel1_per: \" + str(vel1_per) + \" vel1_par: \" + str(vel1_par) \n",
    "    #        + \" vel2_per: \" + str(vel2_per) + \" vel2_par: \" + str(vel2_par) \n",
    "    #        + \" ang1: \" + str(ang_velocity1) + \" ang2: \" + str(ang_velocity2) + \"\\nH\")"
   ]
  },
  {
   "cell_type": "code",
   "execution_count": 395,
   "metadata": {},
   "outputs": [],
   "source": [
    "#opening a file\n",
    "#3 ja hiili kuvaa CM:C$C$, helppo poistaa\n",
    "f = open(\"hvib.xyz\", \"w\")\n",
    "\n",
    "#leapfrog (?)\n",
    "i = 0\n",
    "#writestep()\n",
    "\n",
    "for i in range(steps):\n",
    "    \n",
    "    if i%100 == 0:\n",
    "        writestep()\n",
    "    #x1 += velx1 * timestep\n",
    "    #y1 += vely1 * timestep\n",
    "    #x2 += velx2 * timestep\n",
    "    #y2 += vely2 * timestep\n",
    "    #r = math.sqrt((x2 - x1)**2 + (y2 - y1)**2)\n",
    "    #ang_velocity1 = (ang_velocity1 + vel1_per)/ (r/2)\n",
    "    #ang_velocity2 = (ang_velocity2 + vel2_per)/ (r/2)\n",
    "    #theta += vel1_per * timestep\n",
    "    \n",
    "    theta += velrot * rotdir_tot * timestep\n",
    "    # r 1 -> 2\n",
    "    vel1_par -= (spring_constant/mass1) * (r - eq_distance) * timestep\n",
    "    #velx1 = math.cos(alpha1)*math.cos(theta)*vel1_par + math.sin(alpha1)*math.cos(theta)*vel1_per\n",
    "    #vely1 = math.cos(alpha1)*math.sin(theta)*vel1_par + math.sin(alpha1)*math.sin(theta)*vel1_per\n",
    "    vel2_par += (spring_constant/mass2) * (r - eq_distance) * timestep\n",
    "    #velx2 = math.cos(alpha2)*math.cos(theta)*vel2_par + math.sin(alpha2)*math.cos(theta)*vel2_per\n",
    "    #vely2 = math.cos(alpha2)*math.sin(theta)*vel2_par + math.sin(alpha2)*math.sin(theta)*vel2_per\n",
    "    p1 = mass1 * math.sqrt(vel1_par**2+ vel1_per**2)\n",
    "    p2 = mass2 * math.sqrt(vel2_par**2+ vel2_per**2)\n",
    " \n",
    "    #energy \n",
    "    U = (r - eq_distance) * spring_constant\n",
    "    K1 = p1**2 /(2 *mass1)\n",
    "    K2 = p2**2 /(2 *mass2)\n",
    "    linear_momentum = p1 + p2\n",
    "    angular_momentum = massCM * math.sqrt(ang_velocity1**2 + ang_velocity2**2) * r/2\n",
    "    E_rot = math.sqrt(ang_velocity2**2 + ang_velocity1**2) / (4 * r)\n",
    "    E_tot = U + K1 + K2 + E_rot\n",
    "    \n",
    "\n",
    "f.close()"
   ]
  },
  {
   "cell_type": "code",
   "execution_count": null,
   "metadata": {},
   "outputs": [],
   "source": []
  },
  {
   "cell_type": "code",
   "execution_count": null,
   "metadata": {},
   "outputs": [],
   "source": []
  },
  {
   "cell_type": "code",
   "execution_count": null,
   "metadata": {},
   "outputs": [],
   "source": []
  },
  {
   "cell_type": "code",
   "execution_count": null,
   "metadata": {},
   "outputs": [],
   "source": []
  },
  {
   "cell_type": "code",
   "execution_count": null,
   "metadata": {},
   "outputs": [],
   "source": []
  },
  {
   "cell_type": "code",
   "execution_count": null,
   "metadata": {},
   "outputs": [],
   "source": []
  },
  {
   "cell_type": "code",
   "execution_count": null,
   "metadata": {},
   "outputs": [],
   "source": []
  },
  {
   "cell_type": "code",
   "execution_count": null,
   "metadata": {},
   "outputs": [],
   "source": []
  },
  {
   "cell_type": "code",
   "execution_count": null,
   "metadata": {},
   "outputs": [],
   "source": []
  },
  {
   "cell_type": "code",
   "execution_count": null,
   "metadata": {},
   "outputs": [],
   "source": []
  },
  {
   "cell_type": "code",
   "execution_count": null,
   "metadata": {},
   "outputs": [],
   "source": []
  },
  {
   "cell_type": "code",
   "execution_count": null,
   "metadata": {},
   "outputs": [],
   "source": []
  },
  {
   "cell_type": "code",
   "execution_count": null,
   "metadata": {},
   "outputs": [],
   "source": []
  },
  {
   "cell_type": "code",
   "execution_count": null,
   "metadata": {},
   "outputs": [],
   "source": []
  },
  {
   "cell_type": "code",
   "execution_count": null,
   "metadata": {},
   "outputs": [],
   "source": []
  },
  {
   "cell_type": "code",
   "execution_count": null,
   "metadata": {},
   "outputs": [],
   "source": []
  },
  {
   "cell_type": "code",
   "execution_count": null,
   "metadata": {},
   "outputs": [],
   "source": []
  },
  {
   "cell_type": "code",
   "execution_count": null,
   "metadata": {},
   "outputs": [],
   "source": []
  },
  {
   "cell_type": "code",
   "execution_count": null,
   "metadata": {},
   "outputs": [],
   "source": []
  },
  {
   "cell_type": "code",
   "execution_count": null,
   "metadata": {},
   "outputs": [],
   "source": []
  },
  {
   "cell_type": "code",
   "execution_count": null,
   "metadata": {},
   "outputs": [],
   "source": []
  },
  {
   "cell_type": "code",
   "execution_count": null,
   "metadata": {},
   "outputs": [],
   "source": []
  },
  {
   "cell_type": "code",
   "execution_count": null,
   "metadata": {},
   "outputs": [],
   "source": []
  },
  {
   "cell_type": "code",
   "execution_count": null,
   "metadata": {},
   "outputs": [],
   "source": []
  },
  {
   "cell_type": "code",
   "execution_count": null,
   "metadata": {},
   "outputs": [],
   "source": []
  },
  {
   "cell_type": "code",
   "execution_count": null,
   "metadata": {},
   "outputs": [],
   "source": []
  },
  {
   "cell_type": "code",
   "execution_count": null,
   "metadata": {},
   "outputs": [],
   "source": []
  },
  {
   "cell_type": "code",
   "execution_count": null,
   "metadata": {},
   "outputs": [],
   "source": []
  },
  {
   "cell_type": "code",
   "execution_count": 313,
   "metadata": {},
   "outputs": [
    {
     "name": "stdout",
     "output_type": "stream",
     "text": [
      "1\n"
     ]
    }
   ],
   "source": [
    "a = np.array([1,0])  \n",
    "b = np.array([0,1])  \n",
    "print(np.cross(a,b))"
   ]
  },
  {
   "cell_type": "code",
   "execution_count": null,
   "metadata": {},
   "outputs": [],
   "source": []
  },
  {
   "cell_type": "code",
   "execution_count": null,
   "metadata": {},
   "outputs": [],
   "source": []
  },
  {
   "cell_type": "code",
   "execution_count": null,
   "metadata": {},
   "outputs": [],
   "source": []
  },
  {
   "cell_type": "code",
   "execution_count": null,
   "metadata": {},
   "outputs": [],
   "source": []
  },
  {
   "cell_type": "markdown",
   "metadata": {},
   "source": [
    "# Jostain netistä"
   ]
  },
  {
   "cell_type": "code",
   "execution_count": 270,
   "metadata": {},
   "outputs": [],
   "source": [
    "def SolveHarmOscLeapFrog(tfinal, h, w0, phase):\n",
    "    \"\"\" Compute x(t) of the harmonic oscillator d^2x/dt^2= - w0^2 x\n",
    "    \"\"\"\n",
    "    N = int(tfinal/h)\n",
    "    h = tfinal/N\n",
    " \n",
    "    x = np.zeros(N)\n",
    "    v = x.copy()\n",
    " \n",
    "    x[0] = math.cos(0 + phase)  # \"cheating\" using the analytic solution for start\n",
    "    v[0] = -w0*math.sin(0 + phase)\n",
    " \n",
    "## update x then v \n",
    "#    for i in range(1,N):\n",
    "#        x[i] = x[i-1] + h/2 * v[i-1]\n",
    "#        v[i] = v[i-1] + h * (-w0**2) * x[i]\n",
    "#        x[i] = x[i] + h/2 * v[i]\n",
    "# alternative form all in one go\n",
    "    for i in range(1,N):\n",
    "        x[i] = x[i-1] + h * v[i-1] + h*h/2* (-w0**2)*x[i-1]\n",
    "        v[i] = v[i-1] + h * (-w0**2) * (x[i-1] + x[i])/2\n",
    " \n",
    "    t = np.arange(N)*h\n",
    "    return x,v,t"
   ]
  },
  {
   "cell_type": "code",
   "execution_count": 281,
   "metadata": {},
   "outputs": [
    {
     "name": "stdout",
     "output_type": "stream",
     "text": [
      "# of points  x-SV-method      \tx-LeapFrog   \t  \t  x-Euler   \t Heun   \t \t   x-Hermite\n"
     ]
    },
    {
     "ename": "NameError",
     "evalue": "name 'SolveHarmOscNumerov' is not defined",
     "output_type": "error",
     "traceback": [
      "\u001b[0;31m---------------------------------------------------------------------------\u001b[0m",
      "\u001b[0;31mNameError\u001b[0m                                 Traceback (most recent call last)",
      "\u001b[0;32m<ipython-input-281-9ccbc1e5011f>\u001b[0m in \u001b[0;36m<module>\u001b[0;34m\u001b[0m\n\u001b[1;32m     26\u001b[0m \u001b[0;31m#    L21[i]  = L2(x,xa)\u001b[0m\u001b[0;34m\u001b[0m\u001b[0;34m\u001b[0m\u001b[0;34m\u001b[0m\u001b[0m\n\u001b[1;32m     27\u001b[0m \u001b[0;31m#    vL21[i] = L2(v,va)\u001b[0m\u001b[0;34m\u001b[0m\u001b[0;34m\u001b[0m\u001b[0;34m\u001b[0m\u001b[0m\n\u001b[0;32m---> 28\u001b[0;31m     \u001b[0;34m(\u001b[0m\u001b[0mxn\u001b[0m\u001b[0;34m,\u001b[0m\u001b[0mvn\u001b[0m\u001b[0;34m,\u001b[0m\u001b[0mtn\u001b[0m\u001b[0;34m)\u001b[0m \u001b[0;34m=\u001b[0m \u001b[0mSolveHarmOscNumerov\u001b[0m\u001b[0;34m(\u001b[0m\u001b[0mtfinal\u001b[0m\u001b[0;34m,\u001b[0m \u001b[0mh\u001b[0m\u001b[0;34m,\u001b[0m \u001b[0mw0\u001b[0m\u001b[0;34m,\u001b[0m \u001b[0mphase\u001b[0m\u001b[0;34m)\u001b[0m\u001b[0;34m\u001b[0m\u001b[0;34m\u001b[0m\u001b[0m\n\u001b[0m\u001b[1;32m     29\u001b[0m     \u001b[0mL21n\u001b[0m\u001b[0;34m[\u001b[0m\u001b[0mi\u001b[0m\u001b[0;34m]\u001b[0m  \u001b[0;34m=\u001b[0m \u001b[0mL2\u001b[0m\u001b[0;34m(\u001b[0m\u001b[0mxn\u001b[0m\u001b[0;34m,\u001b[0m\u001b[0mxa\u001b[0m\u001b[0;34m)\u001b[0m\u001b[0;34m\u001b[0m\u001b[0;34m\u001b[0m\u001b[0m\n\u001b[1;32m     30\u001b[0m     \u001b[0;34m(\u001b[0m\u001b[0mxe\u001b[0m\u001b[0;34m,\u001b[0m\u001b[0mve\u001b[0m\u001b[0;34m,\u001b[0m\u001b[0mte\u001b[0m\u001b[0;34m)\u001b[0m \u001b[0;34m=\u001b[0m \u001b[0mSolveHarmOscEuler\u001b[0m\u001b[0;34m(\u001b[0m\u001b[0mtfinal\u001b[0m\u001b[0;34m,\u001b[0m \u001b[0mh\u001b[0m\u001b[0;34m,\u001b[0m \u001b[0mw0\u001b[0m\u001b[0;34m,\u001b[0m \u001b[0mphase\u001b[0m\u001b[0;34m)\u001b[0m\u001b[0;34m\u001b[0m\u001b[0;34m\u001b[0m\u001b[0m\n",
      "\u001b[0;31mNameError\u001b[0m: name 'SolveHarmOscNumerov' is not defined"
     ]
    }
   ],
   "source": [
    "# Main program starts here\n",
    "t = 0\n",
    "tfinal = 2*2.*math.pi\n",
    "w0=1\n",
    "phase=1\n",
    " \n",
    "hs = [0.0003,0.001,.01, .03, .1, .3]\n",
    "hs.reverse()\n",
    "L21 = np.zeros(len(hs))\n",
    "L2euler = L21.copy()\n",
    "L2eulerB = L21.copy()\n",
    "L2Heun = L21.copy()\n",
    "L2lf= L21.copy()\n",
    "L21n = L21.copy()\n",
    "L2he= L21.copy()\n",
    "vL21= L21.copy()\n",
    "vL2lf = L21.copy()\n",
    "N = np.arange(len(hs))\n",
    "i=0\n",
    "print(\"# of points  x-SV-method      \\tx-LeapFrog   \\t  \\t  x-Euler   \\t Heun   \\t \\t   x-Hermite\")\n",
    "for i in range(len(hs)):\n",
    "    h=hs[i]\n",
    "# analytic solution looks like this\n",
    "    xa = np.cos(w0*t+phase)\n",
    "    va = -w0*np.sin(w0*t+phase)\n",
    "#    L21[i]  = L2(x,xa)\n",
    "#    vL21[i] = L2(v,va)\n",
    "    (xn,vn,tn) = SolveHarmOscNumerov(tfinal, h, w0, phase)\n",
    "    L21n[i]  = L2(xn,xa)\n",
    "    (xe,ve,te) = SolveHarmOscEuler(tfinal, h, w0, phase)\n",
    "    L2euler[i] = L2(xe,xa)\n",
    "    (xh,vh,th) = SolveHarmOscHeun(tfinal, h, w0, phase)\n",
    "    L2Heun[i] = L2(xh,xa)\n",
    "    (xeb,veb,teb) = SolveHarmOscEulerBackward(tfinal, h, w0, phase)\n",
    "    L2eulerB[i] = L2(xeb,xa)\n",
    "    (xlf,vlf,tlf) = SolveHarmOscLeapFrog(tfinal, h, w0, phase)\n",
    "    L2lf[i] = L2(xlf,xa)\n",
    "    vL2lf[i]= L2(vlf,va)\n",
    "    (xhe,vhe,the) = SolveHarmOscHermite(tfinal, h, w0, phase)\n",
    "    L2he[i] = L2(xhe,xa)\n",
    "    N[i] = int(tfinal/h)\n",
    "    print(N[i], \"\\t:\", L21[i], \"\\t\", L2lf[i], \"\\t\", L2euler[i], \"\\t\", L2Heun[i], \"\\t\", L2he[i])\n",
    " \n",
    "# <codecell>\n",
    " \n",
    "import matplotlib.pyplot as plt\n",
    "plt.loglog(N,L2euler,'o-',N,L2eulerB,'o-',N,L2Heun,'x-',N,L21,'o-',\n",
    "    N,L2lf,'x-', N, L21n, ':o', double(N),L2he,'-o',\n",
    "    N,double(N)**(-2)*1e2, '-', \n",
    "    10.**(np.arange(4)+1),(10.**(np.arange(4)+1))**(-4)*2e3)\n",
    "plt.legend(('Euler', 'Euler back', 'Heun', 'Verlet', 'Leap-frog', 'Numerov', 'Hermite', '$\\propto $N$^{-2}$', '$\\propto $N$^{-4}$'),'lower left',prop={'size':8})\n",
    "plt.xlabel('Number of steps')\n",
    "plt.ylabel('$L_2$ Error Norm')\n",
    "plt.title('Harmonic Oscillator Solution Error')\n",
    "plt.ylim((1e-14,1e1));\n",
    "plt.xlim((1e1,1e5));\n",
    " \n",
    "# <codecell>\n",
    " \n",
    "Energy = .5 # w0*w0/2 * x[0]*x[0] +  va[0]*va[0]/2;\n",
    "plt.loglog( te,fabs(0.5*w0**2*xe**2 + 0.5*ve**2- Energy),'-',\n",
    "            teb,fabs(0.5*w0**2*xeb**2+0.5*veb**2- Energy),'-.',\n",
    "            teb,fabs(0.5*w0**2*xh**2+0.5*vh**2- Energy),'x-',\n",
    "    tlf,fabs(0.5*w0**2*xlf**2+0.5*vlf**2- Energy),'-',\n",
    "     t ,fabs(0.5*w0*w0 * x*x + 0.5* v*v - Energy),':',\n",
    "     t ,fabs(0.5*w0*w0 * xn*xn + 0.5* vn*vn - Energy),'-.',\n",
    "     t ,fabs(0.5*w0*w0 * xhe*xhe + 0.5* vhe*vhe- Energy),'-.',\n",
    "     t ,fabs(0.5*w0*w0 * x*x + 0.5* va*va- Energy),':');\n",
    "plt.title('Energy vs time')\n",
    "plt.xlabel('time')\n",
    "plt.ylabel('Energy')\n",
    "plt.legend(( 'Euler', 'Euler backward', 'Heun',\n",
    "    'leap frog', 'Verlet', 'Numerov', 'Hermite', 'analytic'),'upper left',prop={'size':8});\n",
    " \n",
    "# <codecell>\n",
    " \n",
    "plt.plot(tlf,xlf,'-',te,xe,'o-',teb,xeb,'x-',t,x,'--',t,xa,':')\n",
    "plt.legend(('leapfrog', 'Euler', 'Euler backwards', 'Verlet', 'exact'),'upper left',prop={'size':8});\n",
    " \n",
    "# <headingcell level=2>\n",
    " \n",
    "# The Verlet and leap frog methods are indeed identical! \n",
    "# Euler is terrible and Hermite integration is what we want if we can afford it.\n",
    " \n",
    "# <codecell>"
   ]
  },
  {
   "cell_type": "code",
   "execution_count": null,
   "metadata": {},
   "outputs": [],
   "source": []
  }
 ],
 "metadata": {
  "kernelspec": {
   "display_name": "Python 3",
   "language": "python",
   "name": "python3"
  },
  "language_info": {
   "codemirror_mode": {
    "name": "ipython",
    "version": 3
   },
   "file_extension": ".py",
   "mimetype": "text/x-python",
   "name": "python",
   "nbconvert_exporter": "python",
   "pygments_lexer": "ipython3",
   "version": "3.7.1"
  }
 },
 "nbformat": 4,
 "nbformat_minor": 2
}
