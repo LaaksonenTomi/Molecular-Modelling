{
 "cells": [
  {
   "cell_type": "code",
   "execution_count": 57,
   "metadata": {},
   "outputs": [],
   "source": [
    "import numpy as np\n",
    "import matplotlib.pyplot as plt\n",
    "import pandas as pd\n",
    "from pandas import Series,DataFrame\n",
    "\n",
    "import random\n",
    "\n",
    "import sys\n",
    "%matplotlib inline"
   ]
  },
  {
   "cell_type": "code",
   "execution_count": 58,
   "metadata": {},
   "outputs": [],
   "source": [
    "class classic_Mersenne_Twister:\n",
    "\n",
    "\n",
    "    def create_seed(self, seed):\n",
    "        \n",
    "        #Creates a seed for PRNG state\n",
    "        self.mt[0] = seed\n",
    "        for i in range(1, 624):\n",
    "            self.mt[i] = self.get32bitInteger(0x6c078965*(self.mt[i - 1]^(self.mt[i -1] >> 30)) + i)\n",
    "\n",
    "\n",
    "    def generate_internal_state(self, seed):\n",
    "        \n",
    "        #Creates a list and a seed\n",
    "        self.mt = [0 for i in range(624)]\n",
    "        self.index = 624\n",
    "        \n",
    "        #Check for valid input\n",
    "        if seed is not None:\n",
    "            self.create_seed(seed)\n",
    "        \n",
    "        self.twist()\n",
    "\n",
    "\n",
    "    def extract_a_random_32bit_sequence(self):\n",
    "\n",
    "        #Extracts a random 32bit sequence\n",
    "        if self.index >= 624:\n",
    "            self.twist()\n",
    "\n",
    "        #Shuffles bits around\n",
    "        x = self.mt[self.index]\n",
    "        x ^= x >> 11\n",
    "        x ^= (x << 7) & 0x9d2c5680\n",
    "        x ^= (x << 15) & 0xefc60000\n",
    "        x ^= x >> 18\n",
    "    \n",
    "        self.index += 1\n",
    "        \n",
    "        #Return a random sequence\n",
    "        return self.get32bitInteger(x)\n",
    "\n",
    "\n",
    "    def twist(self):\n",
    "        #Advances internal state a single step\n",
    "    \n",
    "        for i in range(624):\n",
    "            upper = 0x80000000\n",
    "            lower = 0x7fffffff\n",
    "        \n",
    "            x = self.get32bitInteger((self.mt[i] & upper) + (self.mt[(i + 1) % 624] & lower))\n",
    "            self.mt[i] = self.mt[(i+397) % 624]^(x >> 1)\n",
    "        \n",
    "            if x & 1 !=0:\n",
    "                self.mt[i] ^= 0x9908b0df\n",
    "        \n",
    "            self.index = 0\n",
    "        \n",
    "        \n",
    "    def get32bitInteger(self, x):\n",
    "        return x & 0xffffffff\n",
    "\n",
    "    \n",
    "    def get624bitInteger(self, x):\n",
    "        return x\n",
    "\n",
    "\n",
    "    def getPseudorandomIntegers(self, x, repeats):\n",
    "        \n",
    "        i=0\n",
    "        newlist=[]\n",
    "        while i<repeats:\n",
    "            number1 = self.extract_a_random_32bit_sequence()\n",
    "            number2 = self.extract_a_random_32bit_sequence()\n",
    "            list1 = [int (i) for i in str(number1)]\n",
    "            list2 = [int (i) for i in str(number2)]\n",
    "            substractedlist = [x1 - x2 for (x1, x2) in zip(list1, list2)]\n",
    "            newlist = newlist + substractedlist\n",
    "            i+=1\n",
    "        return newlist\n",
    "\n",
    "\n",
    "    def getPositivePseudorandomIntegers(self, x, repeats):\n",
    "        \n",
    "        i=0\n",
    "        newlist=[]\n",
    "        while i<repeats:\n",
    "            number1 = self.extract_a_random_32bit_sequence()\n",
    "            list1 = [int (i) for i in str(number1)]\n",
    "            newlist = newlist +list1\n",
    "            i+=1\n",
    "        return newlist\n",
    "\n",
    "\n",
    "    def getSequenceOfRealNumbers_c(self, x, repeats):\n",
    "        \n",
    "        i=0\n",
    "        newlist=[]\n",
    "        while i<repeats:\n",
    "            number1 = self.extract_a_random_32bit_sequence()\n",
    "            realnumber1 = float(number1 / 10**(len(str(number1))))\n",
    "            newlist.append(realnumber1)\n",
    "            i+=1\n",
    "        return newlist\n",
    "\n",
    "\n",
    "    def getSequenceOfRealNumbers_d(self, x, repeats):\n",
    "        \n",
    "        i=0\n",
    "        newlist=[]\n",
    "        while i<repeats:\n",
    "            number1 = self.extract_a_random_32bit_sequence()\n",
    "            realnumber1 = float(number1 / 10**(len(str(number1))))\n",
    "            number2 = self.extract_a_random_32bit_sequence()\n",
    "            realnumber2 = float(number2 / 10**(len(str(number2))))\n",
    "            realnumber3 = realnumber1 - realnumber2\n",
    "            newlist.append(realnumber3)\n",
    "            i+=1\n",
    "        return newlist\n",
    "\n",
    "\n",
    "    def getPseudorandomOscillation(self, x, repeats):\n",
    "        \n",
    "        i=0\n",
    "        num = 0\n",
    "        newlist=[]\n",
    "        while i<repeats:\n",
    "            number1 = self.extract_a_random_32bit_sequence()\n",
    "            list1 = [int (i) for i in str(number1)]\n",
    "\n",
    "            for x in list1:\n",
    "                if (x % 2) == 0:\n",
    "                    num = 1\n",
    "                else:\n",
    "                    num = -1\n",
    "                newlist.append(num)\n",
    "            return newlist\n",
    "\n",
    "\n"
   ]
  },
  {
   "cell_type": "code",
   "execution_count": 59,
   "metadata": {},
   "outputs": [
    {
     "name": "stdout",
     "output_type": "stream",
     "text": [
      "Test numbers:\n",
      "3239719367\n",
      "3879348080\n",
      "Test lists:\n",
      "<class 'list'>\n",
      "[3, 2, 3, 9, 7, 1, 9, 3, 6, 7]\n",
      "[3, 8, 7, 9, 3, 4, 8, 0, 8, 0]\n"
     ]
    }
   ],
   "source": [
    "#Test \n",
    "class a:\n",
    "    test = classic_Mersenne_Twister()\n",
    "    \n",
    "    \n",
    "    #Generates a pseudorandom state\n",
    "    #Add an integer to ()\n",
    "    test.generate_internal_state(1)\n",
    "    test.twist()\n",
    "    test.twist()\n",
    "    \n",
    "    # Picks a sequence\n",
    "    print(\"Test numbers:\")\n",
    "    testnumber1 = test.extract_a_random_32bit_sequence()\n",
    "    print(testnumber1)\n",
    "    \n",
    "    testnumber2 = test.extract_a_random_32bit_sequence()\n",
    "    print(testnumber2)\n",
    "    \n",
    "    \n",
    "    #Sequences split into Lists\n",
    "    print(\"Test lists:\")\n",
    "    testlist1 = [int (i) for i in str(testnumber1)]\n",
    "    testlist2 = [int (i) for i in str(testnumber2)]\n",
    "    print(type(testlist1))\n",
    "    \n",
    "\n",
    "    print(testlist1)\n",
    "    print(testlist2)\n",
    "    \n",
    "    x = 3\n",
    "    repeats = 5\n",
    "    \n",
    "\n",
    "    # näistä vois tehä funktioita jotka palauttaa noi kyseiset arvot nii niitä vois kutsua muualta\n",
    "    def getInts(self):\n",
    "        # a) Sequence of pseudorandom integers\n",
    "        testsequence = a.test.getPseudorandomIntegers(a.x, a.repeats)\n",
    "        print(\"a)\")\n",
    "        return testsequence\n",
    "    def getPosInts(self):\n",
    "        # b) Sequence of positive pseudorandom integers\n",
    "        testsequence = a.test.getPositivePseudorandomIntegers(a.x, a.repeats)\n",
    "        print(\"b) \")\n",
    "        return testsequence\n",
    "    def getReals01(self):\n",
    "        # c) Sequence of pseudorandom realnumbers [0,1)\n",
    "        testsequence = a.test.getSequenceOfRealNumbers_c(a.x, a.repeats)\n",
    "        print(\"c)\")\n",
    "        return testsequence\n",
    "    def getReals02(self):\n",
    "        # d) Sequence of pseudorandom realnumbers (-1,1)\n",
    "        testsequence = a.test.getSequenceOfRealNumbers_d(a.x, a.repeats)\n",
    "        print(\"d)\")\n",
    "        return testsequence\n",
    "    def getOnes(self):\n",
    "        # e) Sequence of pseudorandom oscillation of 1 and -1 at 50-50 probability\n",
    "        testsequence = a.test.getPseudorandomOscillation(a.x, a.repeats)\n",
    "        print(\"e)\")\n",
    "        return testsequence\n"
   ]
  },
  {
   "cell_type": "code",
   "execution_count": 62,
   "metadata": {},
   "outputs": [
    {
     "name": "stdout",
     "output_type": "stream",
     "text": [
      "a)\n",
      "b) \n",
      "c)\n",
      "d)\n",
      "e)\n"
     ]
    }
   ],
   "source": [
    "t=a()\n",
    "\n",
    "Ints = t.getInts()\n",
    "PosInts = t.getPosInts()\n",
    "Reals01 = t.getReals01()\n",
    "Reals02 = t.getReals02()\n",
    "Ones = t.getOnes()\n",
    "\n",
    "binssit = 20"
   ]
  },
  {
   "cell_type": "code",
   "execution_count": 63,
   "metadata": {},
   "outputs": [
    {
     "data": {
      "image/png": "[encoded data removed]",
      "text/plain": [
       "<Figure size 432x288 with 1 Axes>"
      ]
     },
     "metadata": {
      "needs_background": "light"
     },
     "output_type": "display_data"
    }
   ],
   "source": [
    "kuva1 = plt.hist(Ints, bins=binssit)"
   ]
  },
  {
   "cell_type": "code",
   "execution_count": 64,
   "metadata": {},
   "outputs": [
    {
     "data": {
      "image/png": "[encoded data removed]",
      "text/plain": [
       "<Figure size 432x288 with 1 Axes>"
      ]
     },
     "metadata": {
      "needs_background": "light"
     },
     "output_type": "display_data"
    }
   ],
   "source": [
    "kuva2 = plt.hist(PosInts, bins=binssit)"
   ]
  },
  {
   "cell_type": "code",
   "execution_count": 65,
   "metadata": {},
   "outputs": [
    {
     "data": {
      "image/png": "[encoded data removed]",
      "text/plain": [
       "<Figure size 432x288 with 1 Axes>"
      ]
     },
     "metadata": {
      "needs_background": "light"
     },
     "output_type": "display_data"
    }
   ],
   "source": [
    "kuva3 = plt.hist(Reals01, bins=binssit)"
   ]
  },
  {
   "cell_type": "code",
   "execution_count": 66,
   "metadata": {},
   "outputs": [
    {
     "data": {
      "image/png": "[encoded data removed]",
      "text/plain": [
       "<Figure size 432x288 with 1 Axes>"
      ]
     },
     "metadata": {
      "needs_background": "light"
     },
     "output_type": "display_data"
    }
   ],
   "source": [
    "kuva4 = plt.hist(Reals02, bins=binssit)"
   ]
  },
  {
   "cell_type": "code",
   "execution_count": 67,
   "metadata": {},
   "outputs": [
    {
     "data": {
      "image/png": "[encoded data removed]",
      "text/plain": [
       "<Figure size 432x288 with 1 Axes>"
      ]
     },
     "metadata": {
      "needs_background": "light"
     },
     "output_type": "display_data"
    }
   ],
   "source": [
    "kuva5 = plt.hist(Ones, bins=binssit)"
   ]
  },
  {
   "cell_type": "code",
   "execution_count": null,
   "metadata": {},
   "outputs": [],
   "source": []
  }
 ],
 "metadata": {
  "kernelspec": {
   "display_name": "Python 3",
   "language": "python",
   "name": "python3"
  },
  "language_info": {
   "codemirror_mode": {
    "name": "ipython",
    "version": 3
   },
   "file_extension": ".py",
   "mimetype": "text/x-python",
   "name": "python",
   "nbconvert_exporter": "python",
   "pygments_lexer": "ipython3",
   "version": "3.7.1"
  }
 },
 "nbformat": 4,
 "nbformat_minor": 2
}
