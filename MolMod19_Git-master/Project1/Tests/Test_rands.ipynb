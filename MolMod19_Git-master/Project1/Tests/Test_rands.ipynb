{
 "cells": [
  {
   "cell_type": "code",
   "execution_count": 1,
   "metadata": {},
   "outputs": [],
   "source": [
    "import numpy as np\n",
    "import matplotlib.pyplot as plt\n",
    "import matplotlib.animation as animation\n",
    "import pandas as pd\n",
    "from pandas import Series,DataFrame\n",
    "\n",
    "import random\n",
    "import math\n",
    "import sys\n",
    "\n",
    "from RandomClass import Random   \n",
    "from collections import Counter\n",
    "\n",
    "%matplotlib inline"
   ]
  },
  {
   "cell_type": "markdown",
   "metadata": {},
   "source": [
    "## Mersu usage\n",
    "\n",
    "| command        | effect          |\n",
    "| :------------- | :-------------- |\n",
    "| `rndg.random()`  | return uniform distribution in [0,1)  |\n",
    "| `rndg.randint(begin_number, end_number)` | return random int in [a,b) |\n",
    "| `rndg.shuffle(sequence as list)` | shuffle the input sequence |\n",
    "| `rndg.choice(sequence, replace=True, size=1)` | choice an element randomly in the sequence |\n",
    "| `rndg.bern(p)` | generate a Bernoulli Random Variable, p: the probability of True |\n",
    "| `rndg.binomial(n, p)` | generate a Binomial Random Variable, n: total times, p: probability of success | \n",
    "| `rndg.geometric(p)` | generate a Geometric Random Variable, p: probability of success |"
   ]
  },
  {
   "cell_type": "markdown",
   "metadata": {},
   "source": [
    "### Making of random numbers\n",
    "```\n",
    "n_nums = lukujen määrä\n",
    "decimals = numeroiden määrä\n",
    "my_seed = randomin siemen\n",
    "```"
   ]
  },
  {
   "cell_type": "code",
   "execution_count": 2,
   "metadata": {},
   "outputs": [],
   "source": [
    "n_nums=10**6\n",
    "decimals=3\n",
    "my_seed=31415"
   ]
  },
  {
   "cell_type": "code",
   "execution_count": 3,
   "metadata": {},
   "outputs": [],
   "source": [
    "rndg = Random(my_seed)   # init Mersu"
   ]
  },
  {
   "cell_type": "markdown",
   "metadata": {},
   "source": [
    "#### Kokonaislukuja"
   ]
  },
  {
   "cell_type": "code",
   "execution_count": 4,
   "metadata": {},
   "outputs": [],
   "source": [
    "def rPInt(decimals):                 # funktio joka tekee random positiivisen kokonaisluvun\n",
    "    lower=10**(decimals-1)\n",
    "    upper=10**decimals\n",
    "    return rndg.randint(lower,upper)\n",
    "def rInt(decimals):                 # funktio joka tekee random kokonaisluvun\n",
    "    lower=-10**decimals\n",
    "    upper=10**decimals\n",
    "    return rndg.randint(lower,upper)"
   ]
  },
  {
   "cell_type": "code",
   "execution_count": 5,
   "metadata": {},
   "outputs": [],
   "source": [
    "def rPInts():                      # funktio joka tekee listan random positiivisia kokonaislukuja\n",
    "    list_rPInts = []\n",
    "    for x in range(n_nums):\n",
    "        list_rPInts.append(rPInt(decimals))\n",
    "    return list_rPInts\n",
    "def rInts():                      # funktio joka tekee listan random kokonaislukuja\n",
    "    list_rInts = []\n",
    "    for x in range(n_nums):\n",
    "        list_rInts.append(rInt(decimals))\n",
    "    return list_rInts"
   ]
  },
  {
   "cell_type": "markdown",
   "metadata": {},
   "source": [
    "#### Reaalilukuja"
   ]
  },
  {
   "cell_type": "code",
   "execution_count": 6,
   "metadata": {},
   "outputs": [],
   "source": [
    "def rPReals01():                 # funktio joka tekee listan random reaalilukuja [0,1)]\n",
    "    list_rPReals01 = []\n",
    "    for x in range(n_nums):\n",
    "        list_rPReals01.append(rndg.random())\n",
    "    return list_rPReals01\n",
    "def rReals01():                 # funktio joka tekee listan random reaalilukuja [-1,1)]\n",
    "    list_rReals01 = []\n",
    "    for x in range(n_nums):\n",
    "        if rndg.bern(rndg.random()):       # True todennäköisyys arvotaan joka kerta\n",
    "            list_rReals01.append(rndg.random())   # True: positiivinen\n",
    "        else:\n",
    "            list_rReals01.append(-rndg.random())  # False: negatiivinen\n",
    "    return list_rReals01"
   ]
  },
  {
   "cell_type": "code",
   "execution_count": 7,
   "metadata": {},
   "outputs": [],
   "source": [
    "# for x in range(n_nums):\n",
    "#    print(rndg.bern(rndg.random()))"
   ]
  },
  {
   "cell_type": "code",
   "execution_count": null,
   "metadata": {},
   "outputs": [],
   "source": []
  },
  {
   "cell_type": "markdown",
   "metadata": {},
   "source": [
    "### -1 ja 1 50:50 chance"
   ]
  },
  {
   "cell_type": "code",
   "execution_count": 8,
   "metadata": {},
   "outputs": [],
   "source": [
    "def fifty_sixty():\n",
    "    if rndg.bern(0.5):\n",
    "        return 1\n",
    "    else:\n",
    "        return -1"
   ]
  },
  {
   "cell_type": "code",
   "execution_count": 9,
   "metadata": {},
   "outputs": [],
   "source": [
    "def fifties_sixties():\n",
    "    list_fifsixs = []\n",
    "    for x in range(n_nums):\n",
    "        if rndg.bern(0.5):\n",
    "            list_fifsixs.append(1)\n",
    "        else:\n",
    "            list_fifsixs.append(-1)\n",
    "    return list_fifsixs"
   ]
  },
  {
   "cell_type": "code",
   "execution_count": null,
   "metadata": {},
   "outputs": [],
   "source": []
  },
  {
   "cell_type": "code",
   "execution_count": 10,
   "metadata": {},
   "outputs": [],
   "source": [
    "# rInts()\n",
    "# rPInts()"
   ]
  },
  {
   "cell_type": "code",
   "execution_count": 11,
   "metadata": {},
   "outputs": [],
   "source": [
    "# rPReals01()\n",
    "# rReals01()"
   ]
  },
  {
   "cell_type": "code",
   "execution_count": 12,
   "metadata": {},
   "outputs": [],
   "source": [
    "#  fifty_sixty()\n",
    "# fifties_sixties()"
   ]
  },
  {
   "cell_type": "code",
   "execution_count": null,
   "metadata": {},
   "outputs": [],
   "source": []
  },
  {
   "cell_type": "code",
   "execution_count": 13,
   "metadata": {},
   "outputs": [
    {
     "data": {
      "image/png": "[encoded data removed]",
      "text/plain": [
       "<Figure size 432x288 with 1 Axes>"
      ]
     },
     "metadata": {
      "needs_background": "light"
     },
     "output_type": "display_data"
    }
   ],
   "source": [
    "list = rInts()\n",
    "hist_rInts = plt.hist(list) #,bins=100, density=True, edgecolor='black')"
   ]
  },
  {
   "cell_type": "code",
   "execution_count": 14,
   "metadata": {},
   "outputs": [],
   "source": [
    "#hist_rPInts = plt.hist(rPInts(), density=True, edgecolor='black')"
   ]
  },
  {
   "cell_type": "code",
   "execution_count": 15,
   "metadata": {},
   "outputs": [
    {
     "data": {
      "image/png": "[encoded data removed]",
      "text/plain": [
       "<Figure size 432x288 with 1 Axes>"
      ]
     },
     "metadata": {
      "needs_background": "light"
     },
     "output_type": "display_data"
    }
   ],
   "source": [
    "hist_rReals = plt.hist(rReals01(), bins=200, density=True, edgecolor='black')\n",
    "plt.title('Random real numbers (-1,1)')\n",
    "plt.savefig('rReals.png',transparent=True)\n",
    "#plt.show()"
   ]
  },
  {
   "cell_type": "code",
   "execution_count": 16,
   "metadata": {},
   "outputs": [
    {
     "data": {
      "image/png": "[encoded data removed]",
      "text/plain": [
       "<Figure size 432x288 with 1 Axes>"
      ]
     },
     "metadata": {
      "needs_background": "light"
     },
     "output_type": "display_data"
    }
   ],
   "source": [
    "hist_rPReals = plt.hist(rPReals01(), bins=100, density=True, edgecolor='black')\n",
    "plt.title('Random real numbers [0,1)')\n",
    "plt.savefig('rPReals.png',transparent=True)\n",
    "#plt.show()"
   ]
  },
  {
   "cell_type": "code",
   "execution_count": 17,
   "metadata": {},
   "outputs": [
    {
     "data": {
      "image/png": "[encoded data removed]",
      "text/plain": [
       "<Figure size 432x288 with 1 Axes>"
      ]
     },
     "metadata": {
      "needs_background": "light"
     },
     "output_type": "display_data"
    }
   ],
   "source": [
    "#hist_fifsix = plt.hist(fifties_sixties(), density=True, edgecolor='black')\n",
    "\n",
    "x = [-1,1]\n",
    "y = [fifties_sixties().count(-1), fifties_sixties().count(1)]\n",
    "plt.bar(x,y,width=0.1, edgecolor='black')\n",
    "plt.title('-1 and 1')\n",
    "plt.ylabel(\"Times of show up\")\n",
    "plt.xlabel('-1 or 1')\n",
    "plt.savefig('fifties.png',transparent=True)"
   ]
  },
  {
   "cell_type": "code",
   "execution_count": null,
   "metadata": {},
   "outputs": [],
   "source": []
  },
  {
   "cell_type": "code",
   "execution_count": null,
   "metadata": {},
   "outputs": [],
   "source": []
  },
  {
   "cell_type": "markdown",
   "metadata": {},
   "source": [
    "# Diffuusio\n",
    "1D, 2D, 3D, 4D"
   ]
  },
  {
   "cell_type": "code",
   "execution_count": 245,
   "metadata": {},
   "outputs": [],
   "source": [
    "atoms = 5000\n",
    "steps = 3000\n",
    "dimension = 2     # valitsee montako ulottuvuutta\n"
   ]
  },
  {
   "cell_type": "markdown",
   "metadata": {},
   "source": [
    "### Tiedoston käsittely"
   ]
  },
  {
   "cell_type": "code",
   "execution_count": 246,
   "metadata": {},
   "outputs": [],
   "source": [
    "def writestep(stepNro):           # kirjoittaa yhden timestepin koordinaatistoon\n",
    "    coordfile.write(str(atoms) + '\\n' + 'Step:' + str(stepNro) + '\\n')  # koordinaatistoon stepin numero\n",
    "    for i in range(atoms):\n",
    "        x = round((coord_matrix[i][0]),7)       # jokainen koordinaatti\n",
    "        y = round((coord_matrix[i][1]),7)       # tallennetaan muuttujaan  \n",
    "        z = round((coord_matrix[i][2]),7)       # jotta se voidaan kirjoittaa\n",
    "        #coordfile.write(str(i) + '\\t' + str(x) + '\\t' + str(y) + '\\t' + str(z) + '\\n')\n",
    "        coordfile.write('H' + '\\t' + str(x) + '\\t' + str(y) + '\\t' + str(z) + '\\n')\n",
    "    #coordfile.write('\\n')"
   ]
  },
  {
   "cell_type": "code",
   "execution_count": 247,
   "metadata": {},
   "outputs": [],
   "source": [
    "def D1tsteptoList():         # tekee 1D timestepin arvoista listan\n",
    "    x_list = []\n",
    "    for i in range(atoms):\n",
    "        x = round((coord_matrix[i][0]),7)\n",
    "        x_list.append(x)\n",
    "    return x_list            # palauttaa yhden timestepin arvot listana"
   ]
  },
  {
   "cell_type": "code",
   "execution_count": 248,
   "metadata": {},
   "outputs": [],
   "source": [
    "def D1tsteptoHist():        # tekee yhden timestepin arvoista histogrammin\n",
    "    hist_1Dts = plt.hist(D1tsteptoList(), bins=500, density=True, edgecolor='black')\n",
    "    plt.title('1D diffusion')\n",
    "    return hist_1Dts        # palauttaa histogrammin\n"
   ]
  },
  {
   "cell_type": "code",
   "execution_count": 249,
   "metadata": {},
   "outputs": [],
   "source": [
    "def D2tsteptoList():         # tekee 2D timestepin r arvoista listan\n",
    "    r_list = []\n",
    "    for i in range(atoms):\n",
    "        x = round((coord_matrix[i][0]),7)\n",
    "        y = round((coord_matrix[i][1]),7)\n",
    "        r = np.sqrt(x**2 + y**2)\n",
    "        r_list.append(r)\n",
    "    return r_list            # palauttaa yhden timestepin arvot listana"
   ]
  },
  {
   "cell_type": "code",
   "execution_count": 250,
   "metadata": {},
   "outputs": [],
   "source": [
    "def D2tsteptoHist():        # tekee yhden timestepin r arvoista histogrammin\n",
    "    hist_2Dts = plt.hist(D2tsteptoList(), bins=500, density=True, edgecolor='black')\n",
    "    plt.title('2D diffusion')\n",
    "    return hist_2Dts        # palauttaa histogrammin\n"
   ]
  },
  {
   "cell_type": "markdown",
   "metadata": {},
   "source": [
    "### Timestepit"
   ]
  },
  {
   "cell_type": "code",
   "execution_count": 251,
   "metadata": {},
   "outputs": [],
   "source": [
    "def D1timestep():                # funktio joka tekee uuden timestepin 1D:ssä\n",
    "    for i in range(atoms):       # käy läpi kaikki atomit\n",
    "        coord_matrix[i][0] += fifty_sixty()"
   ]
  },
  {
   "cell_type": "code",
   "execution_count": 252,
   "metadata": {},
   "outputs": [],
   "source": [
    "def D2timestep():                # funktio joka tekee uuden timestepin 2D:ssä\n",
    "    for i in range(atoms):       # käy läpi kaikki atomit\n",
    "        theta = rndg.random() * 2 * math.pi\n",
    "        coord_matrix[i][0] += math.cos(theta)\n",
    "        coord_matrix[i][1] += math.sin(theta)"
   ]
  },
  {
   "cell_type": "code",
   "execution_count": 253,
   "metadata": {},
   "outputs": [],
   "source": [
    "def D2Taylorstep(terms):                # funktio joka tekee uuden timestepin 2D:ssä\n",
    "    for i in range(atoms):       # käy läpi kaikki atomit\n",
    "        theta = rndg.random() * 2 * math.pi\n",
    "        coord_matrix[i][0] += Taylor_cos(theta, terms)\n",
    "        coord_matrix[i][1] += Taylor_sin(theta, terms)"
   ]
  },
  {
   "cell_type": "code",
   "execution_count": 254,
   "metadata": {},
   "outputs": [],
   "source": [
    "def D3timestep():                # funktio joka tekee uuden timestepin 3D:ssä\n",
    "    for i in range(atoms):       # käy läpi kaikki atomit\n",
    "        theta = rndg.random() * 2 * math.pi\n",
    "        phi = rndg.random() * math.pi\n",
    "        coord_matrix[i][0] += math.sin(theta) * math.cos(phi)\n",
    "        coord_matrix[i][1] += math.sin(theta) * math.sin(phi)\n",
    "        coord_matrix[i][2] += math.cos(theta)"
   ]
  },
  {
   "cell_type": "code",
   "execution_count": 255,
   "metadata": {},
   "outputs": [],
   "source": [
    "def D4timestep():                # funktio joka tekee uuden timestepin 4D:ssä\n",
    "    for i in range(atoms):       # käy läpi kaikki atomit\n",
    "        theta = rndg.random() * 2 * math.pi\n",
    "        phi = rndg.random() * math.pi\n",
    "        psi = rndg.random() * math.pi\n",
    "        coord_matrix[i][0] += math.sin(psi) * math.sin(phi) * math.sin(theta)\n",
    "        coord_matrix[i][1] += math.sin(psi) * math.sin(phi) * math.cos(theta)\n",
    "        coord_matrix[i][2] += math.sin(psi) * math.cos(phi)\n",
    "        coord_matrix[i][3] += math.cos(psi)"
   ]
  },
  {
   "cell_type": "code",
   "execution_count": 256,
   "metadata": {},
   "outputs": [
    {
     "data": {
      "text/plain": [
       "2"
      ]
     },
     "execution_count": 256,
     "metadata": {},
     "output_type": "execute_result"
    }
   ],
   "source": [
    "dimension"
   ]
  },
  {
   "cell_type": "code",
   "execution_count": 257,
   "metadata": {},
   "outputs": [
    {
     "data": {
      "image/png": "[encoded data removed]",
      "text/plain": [
       "<Figure size 432x288 with 1 Axes>"
      ]
     },
     "metadata": {
      "needs_background": "light"
     },
     "output_type": "display_data"
    }
   ],
   "source": [
    "coordfile = open(\"D{}coord.xyz\".format(dimension),'w')   # avataan koordinaattitiedosto käsiteltäväksi\n",
    "coord_matrix = np.zeros((atoms, 4), dtype = np.float32)   # initialize matrix for 4D coords\n",
    "D1diff_histArray = pd.Series()        # initialize array for 1D-histograms\n",
    "D1df = pd.DataFrame(index=range(1,atoms+1))   # initialize DF for all 1D values \n",
    "D2df = pd.DataFrame(index=range(1,atoms+1))   # initialize DF for all 2D r values \n",
    "for i in range(steps+1):          # käy läpi kaikki timestepit\n",
    "    if i%100 == 0:\n",
    "        writestep(i)                  # kirjoittaa timestepin koordinaatistoon\n",
    "    if dimension == 1:            # vain 1D tapaus\n",
    "        if i > (steps-1):\n",
    "            D1df['Step:{}'.format(i)] = D1tsteptoList()            # 1D timestepin lista lisätään DataFrameen\n",
    "            #D1diff_histArray['Step:{}'.format(i)] = D1tsteptoHist()  # 1D timestepin histogrammi lisätään Arrayhin\n",
    "            D1_hist = D1tsteptoHist()\n",
    "            plt.savefig(\"D1_hist.png\")\n",
    "        D1timestep()              # uus timestep\n",
    "    elif dimension == 2:          # vain 2D tapaus\n",
    "        if i > (steps-1):\n",
    "            D2df['Step:{}'.format(i)] = D2tsteptoList()            # 1D timestepin lista lisätään DataFrameen\n",
    "            D2_hist = D2tsteptoHist()\n",
    "            plt.savefig(\"D2_hist.png\")\n",
    "        D2timestep()              # uus timestep\n",
    "    elif dimension == 3:          # vain 3D tapaus\n",
    "        D3timestep()              # uus timestep\n",
    "    elif dimension == 4:          # vain 4D tapaus\n",
    "        D4timestep()              # uus timestep\n",
    "\n",
    "\n",
    "coordfile.close()                 # suljetaan tiedosto"
   ]
  },
  {
   "cell_type": "code",
   "execution_count": 258,
   "metadata": {},
   "outputs": [],
   "source": [
    "D2df['r**2'] = D2df['Step:{}'.format(steps)]**2"
   ]
  },
  {
   "cell_type": "code",
   "execution_count": 259,
   "metadata": {},
   "outputs": [
    {
     "data": {
      "text/plain": [
       "count     5000.000000\n",
       "mean      2896.224121\n",
       "std       2902.496740\n",
       "min          1.402323\n",
       "25%        848.670323\n",
       "50%       1998.400691\n",
       "75%       4001.431520\n",
       "max      25877.813274\n",
       "Name: r**2, dtype: float64"
      ]
     },
     "execution_count": 259,
     "metadata": {},
     "output_type": "execute_result"
    }
   ],
   "source": [
    "D2df['r**2'].describe()"
   ]
  },
  {
   "cell_type": "code",
   "execution_count": 213,
   "metadata": {},
   "outputs": [],
   "source": [
    "D1df['x**2'] = D1df['Step:{}'.format(steps)]**2"
   ]
  },
  {
   "cell_type": "code",
   "execution_count": 214,
   "metadata": {},
   "outputs": [
    {
     "data": {
      "text/plain": [
       "count     5000.000000\n",
       "mean      1048.736000\n",
       "std       1504.722663\n",
       "min          0.000000\n",
       "25%        100.000000\n",
       "50%        484.000000\n",
       "75%       1444.000000\n",
       "max      20164.000000\n",
       "Name: x**2, dtype: float64"
      ]
     },
     "execution_count": 214,
     "metadata": {},
     "output_type": "execute_result"
    }
   ],
   "source": [
    "D1df['x**2'].describe()"
   ]
  },
  {
   "cell_type": "code",
   "execution_count": null,
   "metadata": {},
   "outputs": [],
   "source": []
  },
  {
   "cell_type": "markdown",
   "metadata": {},
   "source": [
    "## Taylor sin&cos"
   ]
  },
  {
   "cell_type": "code",
   "execution_count": 58,
   "metadata": {},
   "outputs": [],
   "source": [
    "def Taylor_sin(a, terms):\n",
    "    a = a\n",
    "    series = a\n",
    "    for i in range(1, terms):\n",
    "        term = (-1)**i * a**(2 * i + 1) / math.factorial(2 * i + 1)\n",
    "        series += term\n",
    "    return series\n",
    "    \n",
    "def Taylor_cos(a, terms):\n",
    "    a = a\n",
    "    series = 1\n",
    "    for i in range(1, terms):\n",
    "        term = (-1)**i * a**(2 * i) / math.factorial(2 * i)\n",
    "        series += term\n",
    "    return series"
   ]
  },
  {
   "cell_type": "markdown",
   "metadata": {},
   "source": [
    "coordfile = open(\"D{}coord.xyz\".format(dimension),'w')   # avataan koordinaattitiedosto käsiteltäväksi\n",
    "coord_matrix = np.zeros((atoms, 4), dtype = np.float32)   # initialize matrix for 4D coords\n",
    "D1diff_histArray = pd.Series()        # initialize array for 1D-histograms\n",
    "D1df = pd.DataFrame(index=range(1,atoms+1))   # initialize DF for all 1D values \n",
    "D2df = pd.DataFrame(index=range(1,atoms+1))   # initialize DF for all 2D r values \n",
    "for i in range(steps+1):          # käy läpi kaikki timestepit\n",
    "    if i%100 == 0:\n",
    "        writestep(i)                  # kirjoittaa timestepin koordinaatistoon\n",
    "    if dimension == 1:            # vain 1D tapaus\n",
    "        if i > (steps-1):\n",
    "            #D1df['Step:{}'.format(i)] = D1tsteptoList()            # 1D timestepin lista lisätään DataFrameen\n",
    "            #D1diff_histArray['Step:{}'.format(i)] = D1tsteptoHist()  # 1D timestepin histogrammi lisätään Arrayhin\n",
    "            D1_hist = D1tsteptoHist()\n",
    "            plt.savefig(\"D1_hist.png\")\n",
    "        D1timestep()              # uus timestep\n",
    "    elif dimension == 2:          # vain 2D tapaus\n",
    "        if i > (steps-1):\n",
    "            D2df['Step:{}'.format(i)] = D2tsteptoList()            # 1D timestepin lista lisätään DataFrameen\n",
    "            D2_hist = D2tsteptoHist()\n",
    "            plt.savefig(\"D2_hist.png\")\n",
    "        D2Taylorstep(2)              # uus timestep\n",
    "    elif dimension == 3:          # vain 3D tapaus\n",
    "        D3timestep()              # uus timestep\n",
    "    elif dimension == 4:          # vain 4D tapaus\n",
    "        D4timestep()              # uus timestep\n",
    "coordfile.close()                 # suljetaan tiedosto"
   ]
  },
  {
   "cell_type": "code",
   "execution_count": null,
   "metadata": {},
   "outputs": [],
   "source": []
  },
  {
   "cell_type": "code",
   "execution_count": null,
   "metadata": {},
   "outputs": [],
   "source": []
  },
  {
   "cell_type": "code",
   "execution_count": null,
   "metadata": {},
   "outputs": [],
   "source": []
  },
  {
   "cell_type": "code",
   "execution_count": null,
   "metadata": {},
   "outputs": [],
   "source": []
  },
  {
   "cell_type": "code",
   "execution_count": null,
   "metadata": {},
   "outputs": [],
   "source": []
  },
  {
   "cell_type": "code",
   "execution_count": null,
   "metadata": {},
   "outputs": [],
   "source": []
  },
  {
   "cell_type": "code",
   "execution_count": null,
   "metadata": {},
   "outputs": [],
   "source": []
  },
  {
   "cell_type": "code",
   "execution_count": null,
   "metadata": {},
   "outputs": [],
   "source": []
  },
  {
   "cell_type": "code",
   "execution_count": null,
   "metadata": {},
   "outputs": [],
   "source": []
  },
  {
   "cell_type": "code",
   "execution_count": null,
   "metadata": {},
   "outputs": [],
   "source": []
  },
  {
   "cell_type": "code",
   "execution_count": null,
   "metadata": {},
   "outputs": [],
   "source": []
  },
  {
   "cell_type": "code",
   "execution_count": null,
   "metadata": {},
   "outputs": [],
   "source": []
  },
  {
   "cell_type": "code",
   "execution_count": null,
   "metadata": {},
   "outputs": [],
   "source": []
  },
  {
   "cell_type": "code",
   "execution_count": null,
   "metadata": {},
   "outputs": [],
   "source": []
  },
  {
   "cell_type": "code",
   "execution_count": null,
   "metadata": {},
   "outputs": [],
   "source": []
  },
  {
   "cell_type": "code",
   "execution_count": null,
   "metadata": {},
   "outputs": [],
   "source": []
  },
  {
   "cell_type": "code",
   "execution_count": null,
   "metadata": {},
   "outputs": [],
   "source": []
  },
  {
   "cell_type": "code",
   "execution_count": null,
   "metadata": {},
   "outputs": [],
   "source": []
  },
  {
   "cell_type": "code",
   "execution_count": null,
   "metadata": {},
   "outputs": [],
   "source": []
  },
  {
   "cell_type": "code",
   "execution_count": null,
   "metadata": {},
   "outputs": [],
   "source": []
  },
  {
   "cell_type": "code",
   "execution_count": null,
   "metadata": {},
   "outputs": [],
   "source": []
  },
  {
   "cell_type": "code",
   "execution_count": null,
   "metadata": {},
   "outputs": [],
   "source": []
  },
  {
   "cell_type": "code",
   "execution_count": null,
   "metadata": {},
   "outputs": [],
   "source": []
  },
  {
   "cell_type": "code",
   "execution_count": null,
   "metadata": {},
   "outputs": [],
   "source": []
  },
  {
   "cell_type": "code",
   "execution_count": null,
   "metadata": {},
   "outputs": [],
   "source": []
  },
  {
   "cell_type": "code",
   "execution_count": null,
   "metadata": {},
   "outputs": [],
   "source": []
  },
  {
   "cell_type": "code",
   "execution_count": null,
   "metadata": {},
   "outputs": [],
   "source": []
  },
  {
   "cell_type": "markdown",
   "metadata": {},
   "source": [
    "### 1D histogrammi"
   ]
  },
  {
   "cell_type": "code",
   "execution_count": null,
   "metadata": {},
   "outputs": [],
   "source": []
  },
  {
   "cell_type": "code",
   "execution_count": null,
   "metadata": {},
   "outputs": [],
   "source": []
  },
  {
   "cell_type": "code",
   "execution_count": null,
   "metadata": {},
   "outputs": [],
   "source": []
  },
  {
   "cell_type": "code",
   "execution_count": null,
   "metadata": {},
   "outputs": [],
   "source": []
  },
  {
   "cell_type": "code",
   "execution_count": null,
   "metadata": {},
   "outputs": [],
   "source": []
  },
  {
   "cell_type": "code",
   "execution_count": 35,
   "metadata": {},
   "outputs": [
    {
     "data": {
      "text/plain": [
       "2"
      ]
     },
     "execution_count": 35,
     "metadata": {},
     "output_type": "execute_result"
    }
   ],
   "source": [
    "dimension"
   ]
  },
  {
   "cell_type": "code",
   "execution_count": null,
   "metadata": {},
   "outputs": [],
   "source": []
  },
  {
   "cell_type": "code",
   "execution_count": null,
   "metadata": {},
   "outputs": [],
   "source": []
  },
  {
   "cell_type": "markdown",
   "metadata": {},
   "source": [
    "# MJ To-do\n",
    "1D: histogrammit eri n_steps   + r expectation\n",
    "2D: "
   ]
  },
  {
   "cell_type": "code",
   "execution_count": null,
   "metadata": {},
   "outputs": [],
   "source": []
  },
  {
   "cell_type": "code",
   "execution_count": null,
   "metadata": {},
   "outputs": [],
   "source": []
  },
  {
   "cell_type": "code",
   "execution_count": null,
   "metadata": {},
   "outputs": [],
   "source": []
  },
  {
   "cell_type": "markdown",
   "metadata": {},
   "source": [
    "#### More stuff\n",
    "- sinit ja cosinit Tayloreina\n",
    "- 1D histogrammi(t) (joka stepille nii saa gif:in) ja taustalle gaussin jakauma\n",
    "- laske odotusarvot\n"
   ]
  },
  {
   "cell_type": "code",
   "execution_count": null,
   "metadata": {},
   "outputs": [],
   "source": []
  },
  {
   "cell_type": "markdown",
   "metadata": {},
   "source": [
    "## Normaalijakauma"
   ]
  },
  {
   "cell_type": "code",
   "execution_count": 36,
   "metadata": {},
   "outputs": [
    {
     "data": {
      "image/png": "[encoded data removed]",
      "text/plain": [
       "<Figure size 432x288 with 1 Axes>"
      ]
     },
     "metadata": {
      "needs_background": "light"
     },
     "output_type": "display_data"
    }
   ],
   "source": [
    "# 1.\n",
    "\n",
    "mean = 0; std = 1; variance = np.square(std)\n",
    "x = np.arange(-5,5,.01)\n",
    "f = np.exp(-np.square(x-mean)/2*variance)/(np.sqrt(2*np.pi*variance))\n",
    "\n",
    "plt.plot(x,f)\n",
    "plt.ylabel('gaussian distribution')\n",
    "plt.show()"
   ]
  },
  {
   "cell_type": "markdown",
   "metadata": {},
   "source": [
    "# 2.\n",
    "\n",
    "import matplotlib.mlab as mlab\n",
    "import math\n",
    "\n",
    "mu = 0\n",
    "variance = 1\n",
    "sigma = math.sqrt(variance)\n",
    "x = np.linspace(mu - 3*sigma, mu + 3*sigma, 100)\n",
    "plt.plot(x,mlab.normpdf(x, mu, sigma))\n",
    "plt.show()"
   ]
  },
  {
   "cell_type": "code",
   "execution_count": 37,
   "metadata": {},
   "outputs": [
    {
     "data": {
      "image/png": "[encoded data removed]",
      "text/plain": [
       "<Figure size 432x288 with 1 Axes>"
      ]
     },
     "metadata": {
      "needs_background": "light"
     },
     "output_type": "display_data"
    }
   ],
   "source": [
    "# 3.\n",
    "\n",
    "from matplotlib import pyplot as mp\n",
    "\n",
    "def gaussian(x, mu, sig):\n",
    "    return np.exp(-np.power(x - mu, 2.) / (2 * np.power(sig, 2.)))\n",
    "\n",
    "x_values = np.linspace(-3, 3, 120)\n",
    "for mu, sig in [(-1, 1), (0, 2), (2, 3)]:\n",
    "    mp.plot(x_values, gaussian(x_values, mu, sig))\n",
    "\n",
    "mp.show()"
   ]
  },
  {
   "cell_type": "markdown",
   "metadata": {},
   "source": [
    "# Lauran xyz-maker"
   ]
  },
  {
   "cell_type": "code",
   "execution_count": 38,
   "metadata": {},
   "outputs": [],
   "source": [
    "atoms = 100\n",
    "steps = 50\n",
    "matrix = np.ones((atoms, 2), dtype = np.float32)\n",
    "       \n",
    "for i in range(atoms):\n",
    "    matrix[i][0] = 0\n",
    "    matrix[i][1] = 0\n",
    "\n",
    "def timestep():\n",
    "    for i in range(atoms):\n",
    "        a = random.random()\n",
    "        matrix[i][0] += math.cos(a * 2 * math.pi)\n",
    "        matrix[i][1] += math.sin(a * 2 * math.pi)\n",
    "\n",
    "f = open(\"xyz.txt\", \"a\")    # avaa koordinaatiston kirjoitettavaksi\n",
    "f.write(str(atoms) + '\\n')  # atomien määrä\n",
    "for g in range(atoms):      # eka steppi eli nollat kaikkiin\n",
    "    f.write('\\n' + str(g + 1) + '\\t0\\t0\\t0')\n",
    "f.write('\\n')               \n",
    "for i in range(steps):      \n",
    "    timestep()              # muuttaa matriisiin uuden arvon \n",
    "    f.write(str(atoms) + '\\n')   # atomien määrä taas\n",
    "    for h in range(atoms):\n",
    "        d = round((matrix[h][0]), 3)   # x-koordinaatti\n",
    "        e = round((matrix[h][1]), 3)   # y-koordinaatti\n",
    "        f.write('\\n' + str(h + 1) + '\\t' + str(d) + '\\t' + str(e) + '\\t 0')   # kirjottaa rivin\n",
    "    f.write('\\n')    \n",
    "\n"
   ]
  },
  {
   "cell_type": "markdown",
   "metadata": {},
   "source": [
    "## Python intrinsic Random generator"
   ]
  },
  {
   "cell_type": "code",
   "execution_count": 39,
   "metadata": {},
   "outputs": [],
   "source": [
    "list01 = []\n",
    "\n",
    "for x in range(n_nums):\n",
    "    list01.append(random.random())\n",
    "    \n",
    "#list01"
   ]
  },
  {
   "cell_type": "code",
   "execution_count": 40,
   "metadata": {},
   "outputs": [],
   "source": [
    "list02 = []\n",
    "\n",
    "for x in range(n_nums):\n",
    "    list02.append(random.uniform(-1,1))\n",
    "    \n",
    "#list02"
   ]
  },
  {
   "cell_type": "code",
   "execution_count": null,
   "metadata": {},
   "outputs": [],
   "source": []
  },
  {
   "cell_type": "code",
   "execution_count": 41,
   "metadata": {},
   "outputs": [
    {
     "data": {
      "image/png": "[encoded data removed]",
      "text/plain": [
       "<Figure size 432x288 with 1 Axes>"
      ]
     },
     "metadata": {
      "needs_background": "light"
     },
     "output_type": "display_data"
    }
   ],
   "source": [
    "kuva2 = plt.hist(list02, bins=200, density=True)"
   ]
  },
  {
   "cell_type": "code",
   "execution_count": null,
   "metadata": {},
   "outputs": [],
   "source": []
  },
  {
   "cell_type": "code",
   "execution_count": 42,
   "metadata": {},
   "outputs": [
    {
     "name": "stdout",
     "output_type": "stream",
     "text": [
      "[0. 0. 0. ... 0. 0. 0.]\n"
     ]
    }
   ],
   "source": [
    "count01 = np.zeros(n_nums)\n",
    "count02 = np.zeros(2*n_nums)\n",
    "\n",
    "count01[5]+=1\n",
    "print(count01)"
   ]
  },
  {
   "cell_type": "code",
   "execution_count": 43,
   "metadata": {},
   "outputs": [],
   "source": [
    "space1 = np.linspace(0,1,n_nums)\n",
    "space2 = np.linspace(0,1,2*n_nums)\n"
   ]
  },
  {
   "cell_type": "code",
   "execution_count": null,
   "metadata": {},
   "outputs": [],
   "source": []
  },
  {
   "cell_type": "code",
   "execution_count": null,
   "metadata": {},
   "outputs": [],
   "source": []
  },
  {
   "cell_type": "code",
   "execution_count": null,
   "metadata": {},
   "outputs": [],
   "source": []
  },
  {
   "cell_type": "markdown",
   "metadata": {},
   "source": [
    "from moviepy.video.io.bindings import mplfig_to_npimage\n",
    "import moviepy.editor as mpy\n",
    "\n",
    "# DRAW A FIGURE WITH MATPLOTLIB\n",
    "\n",
    "duration = 2\n",
    "\n",
    "fig_mpl, ax = plt.subplots(1,figsize=(5,3), facecolor='white')\n",
    "xx = np.linspace(-2,2,200) # the x vector\n",
    "zz = lambda d: np.sinc(xx**2)+np.sin(xx+d) # the (changing) z vector\n",
    "ax.set_title(\"Elevation in y=0\")\n",
    "ax.set_ylim(-1.5,2.5)\n",
    "line, = ax.plot(xx, zz(0), lw=3)\n",
    "\n",
    "# ANIMATE WITH MOVIEPY (UPDATE THE CURVE FOR EACH t). MAKE A GIF.\n",
    "\n",
    "def make_frame_mpl(t):\n",
    "    line.set_ydata( zz(2*np.pi*t/duration))  # <= Update the curve\n",
    "    return mplfig_to_npimage(fig_mpl) # RGB image of the figure\n",
    "\n",
    "animation =mpy.VideoClip(make_frame_mpl, duration=duration)\n",
    "animation.write_gif(\"sinc_mpl.gif\", fps=20)\n"
   ]
  },
  {
   "cell_type": "code",
   "execution_count": null,
   "metadata": {},
   "outputs": [],
   "source": []
  },
  {
   "cell_type": "markdown",
   "metadata": {},
   "source": [
    "## Kyssäreitä\n",
    "- laitetaanko histogrammeista vaan viimeset kuvat?"
   ]
  },
  {
   "cell_type": "code",
   "execution_count": null,
   "metadata": {},
   "outputs": [],
   "source": []
  },
  {
   "cell_type": "code",
   "execution_count": null,
   "metadata": {},
   "outputs": [],
   "source": []
  }
 ],
 "metadata": {
  "kernelspec": {
   "display_name": "Python 3",
   "language": "python",
   "name": "python3"
  },
  "language_info": {
   "codemirror_mode": {
    "name": "ipython",
    "version": 3
   },
   "file_extension": ".py",
   "mimetype": "text/x-python",
   "name": "python",
   "nbconvert_exporter": "python",
   "pygments_lexer": "ipython3",
   "version": "3.7.1"
  }
 },
 "nbformat": 4,
 "nbformat_minor": 2
}
