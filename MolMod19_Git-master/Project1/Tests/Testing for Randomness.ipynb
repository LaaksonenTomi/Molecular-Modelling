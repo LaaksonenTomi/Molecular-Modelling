{
 "cells": [
  {
   "cell_type": "markdown",
   "metadata": {},
   "source": [
    "# Mersenne Twister in Python \n",
    "\n",
    "Try to rebuild the pseudo-random algorithm *Mersenne Twister*, which is used in python's random library. \n",
    "\n",
    "Also with a basic *Random* class and some simple methods for easily testing.\n",
    "\n",
    "## MT19937.py \n",
    "\n",
    "Main part of the algorithm.\n",
    "\n",
    "Convert the pseudocode in [Mersenne Twister](https://en.wikipedia.org/wiki/Mersenne_Twister) to python code.\n",
    "\n",
    "Coefficients follow the standard of *MT19937-32*.\n",
    "\n",
    "## RandomClass.py \n",
    "\n",
    "A class named *Random*.\n",
    "\n",
    "### Usage\n",
    "Firstly, build a Random object. if no input, seed will default to 0.\n",
    "``` python\n",
    ">>> name = Random(seed)\n",
    "```\n",
    "\n",
    "&nbsp;\n",
    "\n",
    "**.random()**:\n",
    "\n",
    "return uniform ditribution in [0,1)\n",
    "``` python\n",
    ">>> name.random()\n",
    "0.1786995275775844\n",
    "```\n",
    "\n",
    "&nbsp;\n",
    "\n",
    "**.randint(begin_number, end_number)**:\n",
    "\n",
    "return random int in [a,b)\n",
    "``` python\n",
    ">>> name.randin(1,10)\n",
    "9\n",
    "```\n",
    "\n",
    "&nbsp;\n",
    "\n",
    "**.shuffle(sequence)**:\n",
    "\n",
    "shuffle the input sequence\n",
    "``` python\n",
    ">>> name.shuffle([1,2,3,4,5])\n",
    "[2, 1, 5, 3, 4]\n",
    "```\n",
    "\n",
    "&nbsp;\n",
    "\n",
    "**.choice(sequence, replace=True, size=1)**:\n",
    "\n",
    "choice an element randomly in the sequence.\n",
    "\n",
    "replace: choose with replacement or not.\n",
    "\n",
    "size: the number of element to be chosen, if size != 1, will return a list contains those element.\n",
    "``` python\n",
    ">>> name.choice([1,2,3,4,5])\n",
    "1\n",
    ">>> name.choice([1,2,3,4,5],size=3)\n",
    "[2, 3, 2]\n",
    ">>> name.choice([1,2,3,4,5],replace=False,size=3)\n",
    "[2, 5, 1]\n",
    "```\n",
    "\n",
    "&nbsp;\n",
    "\n",
    "**.bern(p)**:\n",
    "\n",
    "generate a Bernoulli Random Variable\n",
    "\n",
    "p: the probability of True\n",
    "\n",
    "```\n",
    ">>> name.bern(0.5)\n",
    "True\n",
    ">>> name.bern(0.5)\n",
    "False\n",
    "```\n",
    "\n",
    "&nbsp;\n",
    "\n",
    "**.binomial(n, p)**:\n",
    "\n",
    "generate a Binomial Random Variable\n",
    "\n",
    "n: total times\n",
    "\n",
    "p: probability of success\n",
    "```\n",
    ">>> name.binomial(10, 0.5)\n",
    "6\n",
    ">>> name.binomial(10, 0.5)\n",
    "3\n",
    "```\n",
    "\n",
    "\n",
    "&nbsp;\n",
    "\n",
    "**.geometric(p)**:\n",
    "\n",
    "generate a Geometric Random Variable\n",
    "            \n",
    "p: probability of success\n",
    "```\n",
    ">>> name.geometric(0.5)\n",
    "1\n",
    ">>> name.geometric(0.5)\n",
    "2\n",
    "```\n",
    "\n",
    "\n",
    "## Randomness Testing\n",
    "\n",
    "The file *Testing for Randomness.ipynb* contains several basic randomness testing result for this algorithm.\n",
    "\n"
   ]
  },
  {
   "cell_type": "markdown",
   "metadata": {},
   "source": [
    "# Testing for Randomness"
   ]
  },
  {
   "cell_type": "code",
   "execution_count": 2,
   "metadata": {},
   "outputs": [],
   "source": [
    "from RandomClass import Random\n",
    "import matplotlib.pyplot as plt   \n",
    "from collections import Counter\n",
    "import random\n",
    "%matplotlib inline\n"
   ]
  },
  {
   "cell_type": "code",
   "execution_count": 3,
   "metadata": {},
   "outputs": [],
   "source": [
    "test = Random(5489) #initial "
   ]
  },
  {
   "cell_type": "markdown",
   "metadata": {},
   "source": [
    "## The Spectral Test\n",
    "generate int in range [0,100]. "
   ]
  },
  {
   "cell_type": "code",
   "execution_count": 4,
   "metadata": {},
   "outputs": [
    {
     "data": {
      "image/png": "[encoded data removed]",
      "text/plain": [
       "<Figure size 432x288 with 1 Axes>"
      ]
     },
     "metadata": {
      "needs_background": "light"
     },
     "output_type": "display_data"
    }
   ],
   "source": [
    "num_trials = 10**7\n",
    "\n",
    "s = [test.randint(0,101) for n in range(num_trials)]  \n",
    "y = [s.count(n) for n in range(101)]\n",
    "\n",
    "# your code here\n",
    "plt.bar(range(101),y, width=1.0, edgecolor='black')\n",
    "plt.title('My MT algorithm')\n",
    "plt.ylabel(\"Times of show up\")\n",
    "plt.xlabel('Outcome')\n",
    "plt.show()"
   ]
  },
  {
   "cell_type": "code",
   "execution_count": 7,
   "metadata": {},
   "outputs": [
    {
     "data": {
      "image/png": "[encoded data removed]",
      "text/plain": [
       "<Figure size 432x288 with 1 Axes>"
      ]
     },
     "metadata": {
      "needs_background": "light"
     },
     "output_type": "display_data"
    }
   ],
   "source": [
    "num_trials = 10**7\n",
    "random.seed(5489)\n",
    "s = [random.randint(0,100) for n in range(num_trials)]  \n",
    "y = [s.count(n) for n in range(101)]\n",
    "\n",
    "# your code here\n",
    "plt.bar(range(101),y, width=1.0, edgecolor='black')\n",
    "plt.title('Python buit-in Random')\n",
    "plt.ylabel(\"Times of show up\")\n",
    "plt.xlabel('Outcome')\n",
    "plt.show()\n",
    "\n",
    "#print(s.count(100))"
   ]
  },
  {
   "cell_type": "markdown",
   "metadata": {},
   "source": [
    "###  Permutation Test\n",
    "Compare relative ordering for every pair of random number.\n",
    "\n",
    "The first value in the outcome shows times of number 1 > number 2.\n",
    "\n",
    "The second value in the outcome shows times of number 2 >= number 1."
   ]
  },
  {
   "cell_type": "code",
   "execution_count": 8,
   "metadata": {},
   "outputs": [
    {
     "name": "stdout",
     "output_type": "stream",
     "text": [
      "This is my MT algorithm\n",
      "[5000056, 4999944]\n"
     ]
    }
   ],
   "source": [
    "def randomness_my_test(N):\n",
    "    x = [0] * 2\n",
    "    \n",
    "    while N>0:\n",
    "        if test.random() < test.random():\n",
    "            x[0] += 1\n",
    "        else:\n",
    "            x[1] += 1\n",
    "        N -= 1\n",
    "    \n",
    "    print(x)\n",
    "    return \n",
    "\n",
    "print('This is my MT algorithm')\n",
    "randomness_my_test(10**7)  "
   ]
  },
  {
   "cell_type": "code",
   "execution_count": 33,
   "metadata": {},
   "outputs": [
    {
     "name": "stdout",
     "output_type": "stream",
     "text": [
      "This is Python built-in random library\n",
      "[5001512, 4998488]\n"
     ]
    }
   ],
   "source": [
    "def randomness_test(N):\n",
    "    x = [0] * 2\n",
    "    \n",
    "    while N>0:\n",
    "        if random.random() < random.random():\n",
    "            x[0] += 1\n",
    "        else:\n",
    "            x[1] += 1\n",
    "        N -= 1\n",
    "    \n",
    "    print(x)\n",
    "    return \n",
    "\n",
    "print('This is Python built-in random library')\n",
    "randomness_test(10**7)  "
   ]
  },
  {
   "cell_type": "markdown",
   "metadata": {},
   "source": [
    "### Pixel Testing\n",
    "Put black pixels randomly in a 500X500 white png."
   ]
  },
  {
   "cell_type": "markdown",
   "metadata": {},
   "source": [
    "50000 times\n",
    "\n",
    "![50000](img/50000.png)\n",
    "\n",
    "300000 times\n",
    "\n",
    "![300000](img/300000.png)\n",
    "\n",
    "500000 times\n",
    "\n",
    "![500000](img/500000.png)\n",
    "\n",
    "700000 times\n",
    "\n",
    "![700000](img/700000.png)\n",
    "\n",
    "5000000 times\n",
    "\n",
    "![over_number](img/over_number.png)"
   ]
  }
 ],
 "metadata": {
  "kernelspec": {
   "display_name": "Python 3",
   "language": "python",
   "name": "python3"
  },
  "language_info": {
   "codemirror_mode": {
    "name": "ipython",
    "version": 3
   },
   "file_extension": ".py",
   "mimetype": "text/x-python",
   "name": "python",
   "nbconvert_exporter": "python",
   "pygments_lexer": "ipython3",
   "version": "3.7.1"
  }
 },
 "nbformat": 4,
 "nbformat_minor": 2
}
